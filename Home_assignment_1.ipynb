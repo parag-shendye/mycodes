{
 "cells": [
  {
   "cell_type": "markdown",
   "metadata": {},
   "source": [
    "# 1. Home Assignment"
   ]
  },
  {
   "cell_type": "markdown",
   "metadata": {},
   "source": [
    "You should work on the assignement in groups of 2 participants. \n",
    "\n",
    "Upload your solution as a jupyter notebook to L2P by 13th of June 23:59h. (The deadline is strict)\n",
    "\n",
    "Do not forget to specify the names of all contributing students in the jupyter notebook.\n",
    "\n",
    "You should add comments to your code where necessary\n"
   ]
  },
  {
   "cell_type": "markdown",
   "metadata": {},
   "source": [
    "By Akash Singh(384008) and Parag Shendye(384146)"
   ]
  },
  {
   "cell_type": "markdown",
   "metadata": {},
   "source": [
    "# 1. Remove comments\n",
    "Write a function that takes as input a source a target file name and copies copies all the lines not starting with a # from the source to the target file."
   ]
  },
  {
   "cell_type": "code",
   "execution_count": 24,
   "metadata": {
    "collapsed": false
   },
   "outputs": [],
   "source": [
    "# defining paths for both source and target files\n",
    "def commentremover(sourcefile,Targetfile):\n",
    "\n",
    "#open source file as readable and Target file as apendable\n",
    "    S=open(sourcefile,'r')\n",
    "\n",
    "    T=open(Targetfile,'a')\n",
    "    for line in S.readlines():\n",
    "        if not line.startswith(\"#\"):# this command checks for line not beginning with \"#\" \n",
    "            T.write(line) \n",
    "                \n",
    "#Close both the files                 \n",
    "    S.close()\n",
    "    T.close()\n",
    "        \n",
    "\n",
    "    "
   ]
  },
  {
   "cell_type": "code",
   "execution_count": 25,
   "metadata": {
    "collapsed": true
   },
   "outputs": [],
   "source": [
    "commentremover(sourcefile=\"C:\\\\Users\\\\hp\\\\Desktop\\\\edx\\\\trial_file.txt\",Targetfile=\"C:\\\\Users\\\\hp\\\\Desktop\\\\edx\\\\trial_file_4.txt\")"
   ]
  },
  {
   "cell_type": "markdown",
   "metadata": {},
   "source": [
    "# 2. Sudoku\n",
    "Write a function that takes a 9x9 numpy array as input and checks whether it is a valid sudoku entry. Your function should output True or False based on the validity."
   ]
  },
  {
   "cell_type": "code",
   "execution_count": 22,
   "metadata": {
    "collapsed": false
   },
   "outputs": [
    {
     "name": "stdout",
     "output_type": "stream",
     "text": [
      "[[3 6 2 8 3 6 2 8 8]\n",
      " [6 8 7 1 2 1 6 6 5]\n",
      " [8 6 4 4 5 2 8 5 7]\n",
      " [6 5 4 6 8 4 8 4 3]\n",
      " [3 5 6 2 7 7 5 5 3]\n",
      " [2 4 3 3 3 6 3 6 6]\n",
      " [6 5 4 2 3 1 2 7 6]\n",
      " [5 5 7 6 1 5 4 6 3]\n",
      " [8 4 7 7 2 3 5 1 7]]\n",
      "[[3 6 2]\n",
      " [6 8 7]\n",
      " [8 6 4]]\n"
     ]
    },
    {
     "data": {
      "text/plain": [
       "False"
      ]
     },
     "execution_count": 22,
     "metadata": {},
     "output_type": "execute_result"
    }
   ],
   "source": [
    "\n",
    "def check_sudoku(grid):\n",
    "    for row in range(len(grid)):\n",
    "        for col in range(len(grid)):\n",
    "            if grid[row][col] < 1 :\n",
    "                return False\n",
    "            # check value is within 1 through n.\n",
    "            # for example a 2x2 grid should not have the value 8 in it\n",
    "            elif grid[row][col] > 9:\n",
    "                return False\n",
    "    # check the sub-matrix\n",
    "    for i in  range (0,8,3):\n",
    "        for j in range (0,8,3):\n",
    "            x = grid [i:i+3,j:j+3]\n",
    "            y = x.reshape((1,9))\n",
    "            print(x)\n",
    "            for row in y:\n",
    "                if sorted(list(set(row))) != sorted(row):\n",
    "                    return False\n",
    "    # check the rows\n",
    "    for row in grid:\n",
    "        if sorted(list(set(row))) != sorted(row):\n",
    "            return False\n",
    "    # check the cols\n",
    "    cols = []\n",
    "    for col in range(len(grid)):\n",
    "        for row in grid:\n",
    "            cols += [row[col]]\n",
    "        # set will get unique values, its converted to list so you can compare\n",
    "        # it's sorted so the comparison is done correctly.\n",
    "        if sorted(list(set(cols))) != sorted(cols):\n",
    "            return False\n",
    "        cols = []\n",
    "\n",
    "    # if you get past all the false checks return True\n",
    "    return True\n",
    "import numpy as np\n",
    "z = np.random.randint(1,9, size=(9, 9))\n",
    "a = np.array ([[8,4,9,5,2,1,7,3,6],\n",
    "              [2,5,7,8,6,3,9,1,4],\n",
    "              [1,6,3,7,4,9,2,5,8],\n",
    "              [3,2,5,1,9,6,4,8,7],\n",
    "              [4,9,8,3,5,7,6,2,1],\n",
    "              [7,1,6,4,8,2,3,9,5],\n",
    "              [9,8,4,2,7,5,1,6,3],\n",
    "              [6,7,1,9,3,8,5,4,2],\n",
    "              [5,3,2,6,1,4,8,7,9]])\n",
    "print (z)\n",
    "check_sudoku(z)\n"
   ]
  },
  {
   "cell_type": "code",
   "execution_count": null,
   "metadata": {
    "collapsed": true
   },
   "outputs": [],
   "source": [
    "z = np.random.randint(1,9, size=(9, 9))\n",
    "check_sudoku(z)"
   ]
  },
  {
   "cell_type": "markdown",
   "metadata": {},
   "source": [
    "# 3. Edit distance (Levenstein distance)\n",
    "Write a function that takes two strings as input and calculates the edit distance between the two strings. \n",
    "Edit distance between \"cat\" and \"cut\" is 1\n",
    "You can refer to the algorithm here - https://en.wikipedia.org/wiki/Edit_distance"
   ]
  },
  {
   "cell_type": "code",
   "execution_count": 2,
   "metadata": {
    "collapsed": true
   },
   "outputs": [],
   "source": [
    "def Levensteindistance(Inputstring,outputstring):\n",
    "\n",
    "    count=0 #initialise counter as zero\n",
    "# if two strings are equal in length then we only need to make substitutions to make changes to the string\n",
    "    \n",
    "    if len(Inputstring)==len(outputstring):\n",
    "        for i in range(len(Inputstring)):\n",
    "            if Inputstring[i]!=outputstring[i]:\n",
    "                count=count+1\n",
    "# if length of one string is either greater than or less than the other string then we need to make substitutions as well as addition or deletions as per the case    \n",
    "   \n",
    "    elif len(outputstring)>len(Inputstring):\n",
    "        for i in range(len(Inputstring)):\n",
    "            if outputstring[i]!=Inputstring[i]:\n",
    "                count=count+1\n",
    "        count=count+len(outputstring)-len(Inputstring)\n",
    "\n",
    "    elif len(outputstring)<len(Inputstring):\n",
    "        for i in range(len(outputstring)):\n",
    "            if outputstring[i]!=Inputstring[i]:\n",
    "                count=count+1\n",
    "        count=count+len(Inputstring)-len(outputstring)\n",
    "\n",
    "    return count\n"
   ]
  },
  {
   "cell_type": "code",
   "execution_count": 3,
   "metadata": {
    "collapsed": false
   },
   "outputs": [
    {
     "data": {
      "text/plain": [
       "6"
      ]
     },
     "execution_count": 3,
     "metadata": {},
     "output_type": "execute_result"
    }
   ],
   "source": [
    "Levensteindistance(Inputstring=\"python\",outputstring=\"java\")"
   ]
  },
  {
   "cell_type": "markdown",
   "metadata": {},
   "source": [
    "# 4. Parentheses check\n",
    "Write a function that takes an expression as input and checks whether the parentheses are balanced. \n",
    "{ ( ( [ ] ) ) } is a valid expression.\n",
    "{ { ( } ) } }, { ( }, { ] are not valid expressions. \n",
    "Your function should output True or False based on the validity of the expression"
   ]
  },
  {
   "cell_type": "code",
   "execution_count": 27,
   "metadata": {
    "collapsed": true
   },
   "outputs": [],
   "source": [
    "def paranthesescheck(inputstring):\n",
    "    para_dict={'{':'}','[':']','(':')'} #first creating a dictionary containing pairwise parantheses\n",
    "    closing = para_dict.values() \n",
    "\n",
    "    my_list = []\n",
    "    for characters in inputstring:\n",
    "        presentkeys = para_dict.get(characters, None) # checking if any characters in string match with the defined key\n",
    "        if presentkeys:\n",
    "            my_list.append(presentkeys)# putting the values corresponding to these keys into my_list\n",
    "        elif characters in closing:\n",
    "            if not my_list or characters != my_list.pop():\n",
    "                return False\n",
    "    return not my_list\n"
   ]
  },
  {
   "cell_type": "code",
   "execution_count": 28,
   "metadata": {
    "collapsed": false
   },
   "outputs": [
    {
     "data": {
      "text/plain": [
       "True"
      ]
     },
     "execution_count": 28,
     "metadata": {},
     "output_type": "execute_result"
    }
   ],
   "source": [
    "paranthesescheck(\"{{this is a string}}()()[[]]\")"
   ]
  },
  {
   "cell_type": "markdown",
   "metadata": {},
   "source": [
    "# 5. Palindrome check \n",
    "a. Write a function that checks whether a string is a palindrome. \"Anna\" is a palindrome.\n",
    "b. Write a function that takes a string as an input and checks whether any anagram of the string is a palindrome.\n",
    "Hint: You do not need to generate all the anagrams. In both cases your function should output True or Flase."
   ]
  },
  {
   "cell_type": "code",
   "execution_count": 13,
   "metadata": {
    "collapsed": false
   },
   "outputs": [],
   "source": [
    "def Palindrome_Check (String):\n",
    "    countt = 0\n",
    "    i = 0 # initiated to approach string from left end\n",
    "    j = len(String)-1 #simulataneously approach from right end\n",
    "    while (i <= j):\n",
    "        if ( String[i] == String[j]):\n",
    "            countt = countt +1 #increment count each time encounter same value\n",
    "        i=i+1\n",
    "        j=j-1\n",
    "    if(countt == ((len(String)//2)+(len(String)%2))): #when count becomes equal to number steps it moved before i=j\n",
    "        return True\n",
    "    else:\n",
    "        return False\n",
    "\n",
    "\n",
    "\n",
    "def Anagram_Check (Strings):\n",
    "    from itertools import permutations\n",
    "    Anags = [''.join(p) for p in permutations(Strings)] #permute all the letters of the strings and then join them to make different strings\n",
    "    count = 0\n",
    "    for i in range(len(Anags)): # extracting strings and parsing them to palindrome function\n",
    "        Palin = Anags[i]\n",
    "        print (Palin , \"is a palindrome\" , Palindrome_Check (Palin))\n",
    "        if(Palindrome_Check (Palin)):\n",
    "            count = count+1\n",
    "    if(count > 0):\n",
    "        return True\n",
    "    else:\n",
    "        return False\n",
    "\n",
    "\n",
    "\n",
    "    "
   ]
  },
  {
   "cell_type": "code",
   "execution_count": 15,
   "metadata": {
    "collapsed": false
   },
   "outputs": [
    {
     "name": "stdout",
     "output_type": "stream",
     "text": [
      "pop is a palindrome True\n",
      "ppo is a palindrome False\n",
      "opp is a palindrome False\n",
      "opp is a palindrome False\n",
      "ppo is a palindrome False\n",
      "pop is a palindrome True\n"
     ]
    },
    {
     "data": {
      "text/plain": [
       "True"
      ]
     },
     "execution_count": 15,
     "metadata": {},
     "output_type": "execute_result"
    }
   ],
   "source": [
    "Anagram_Check (\"pop\")\n"
   ]
  },
  {
   "cell_type": "markdown",
   "metadata": {},
   "source": [
    "# 6. Prime factorization\n",
    "Write a function that takes into input a number and outputs all the prime factors of the number. Your function should output a dictionary with all the prime factors as keys and their corresponding orders as values.\n",
    "9 -> {3:2}\n",
    "12 -> {2:2, 3:1}"
   ]
  },
  {
   "cell_type": "code",
   "execution_count": 29,
   "metadata": {
    "collapsed": true
   },
   "outputs": [],
   "source": [
    "def prime_factors(n):\n",
    "    \n",
    "    factors =[]\n",
    "    if n > 1:\n",
    "        i = 2\n",
    "        while n % i != 0: #append i in list untill remainder is 0 and increment i when remainder is 0\n",
    "            i += 1\n",
    "        factors.append(i)\n",
    "        factors.extend(prime_factors(n / i)) # using recursive calling of function\n",
    "    return factors\n",
    "    \n",
    "\n",
    "def primefactorsdict(n): # defining a function to add elements from list to dictionary\n",
    "    fac_list=[]\n",
    "    fac_list=prime_factors(n)\n",
    "    pf_dict={}\n",
    "    for k in range(len(fac_list)):\n",
    "        pf_dict[fac_list[k]]=fac_list.count(fac_list[k]) # counting repeated values and putting them as values of keys(prime numbers)\n",
    "\n",
    "    return pf_dict\n"
   ]
  },
  {
   "cell_type": "code",
   "execution_count": 30,
   "metadata": {
    "collapsed": false
   },
   "outputs": [
    {
     "data": {
      "text/plain": [
       "{2: 3, 5: 3}"
      ]
     },
     "execution_count": 30,
     "metadata": {},
     "output_type": "execute_result"
    }
   ],
   "source": [
    "primefactorsdict(1000)\n",
    "\n"
   ]
  },
  {
   "cell_type": "markdown",
   "metadata": {},
   "source": []
  },
  {
   "cell_type": "code",
   "execution_count": null,
   "metadata": {
    "collapsed": true
   },
   "outputs": [],
   "source": []
  }
 ],
 "metadata": {
  "kernelspec": {
   "display_name": "Python 3",
   "language": "python",
   "name": "python3"
  },
  "language_info": {
   "codemirror_mode": {
    "name": "ipython",
    "version": 3
   },
   "file_extension": ".py",
   "mimetype": "text/x-python",
   "name": "python",
   "nbconvert_exporter": "python",
   "pygments_lexer": "ipython3",
   "version": "3.5.5"
  }
 },
 "nbformat": 4,
 "nbformat_minor": 2
}
