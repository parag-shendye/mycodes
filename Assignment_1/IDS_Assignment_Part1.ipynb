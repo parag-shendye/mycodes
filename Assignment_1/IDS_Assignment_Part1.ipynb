{
 "cells": [
  {
   "cell_type": "markdown",
   "metadata": {},
   "source": [
    "# The First Part of the Assignment of IDS 2019-2020\n",
    "Document your results as well as the way you obtained them in this jupyter notebook. A seperate report (pdf, word etc.) is _not_ required. However, it is necessary that you provide the python code leading to your results as well as textual answers to the assignment questions in this notebook. *DO NOT CLEAR THE OUTPUT of the notebook your are submitting!* In the cases that the result of an algorithm is pdf, jpg, etc, you should attach the result to this notebook file and refer to that in the text.  \n",
    "\n",
    "Next to the jupyter notebook, submit one zip-file containing all data sets that you are asked to submit. Make sure they are easily identifiable, i.e. use names as requested in the corresponding question.\n",
    "\n",
    "Do not change the general structure of this notebook, but you can add further markdown or code cells to explain your solutions if necessary. In the end, submit this file and your created data sets in moodle.\n",
    "\n",
    "Only <font color=\"red\">one </font> group member should upload your group's solution. *Make sure to include group members' names and matriculation numbers*. If your name and student id are not included in the report, you will not receive any points!\n",
    "\n",
    "\n",
    "Hint 1: While answering the questions, you will get a better and better impression of the given data. However, feel free to compute additional results and vizualizations to motivate the decisions you need to make, for example with respect to modification, simplification or sampling of the data. <font color=\"red\"><b>Ensure that all claims you make are supported by the presented facts!</b></font>\n",
    "\n",
    "Hint 2: <font color=\"red\"><b>Some of the tasks might need some time to run. Take this into account in your planning.</b></font>\n",
    "\n",
    "Hint 3: RWTHonline allows for multiple submissions (each submission overwrites the previous ones). <font color=\"red\"><b>Partial submissions are possible and encouraged. </b></font> This helps in case of technical problems of RWTHonline, which do seldomly happen."
   ]
  },
  {
   "cell_type": "markdown",
   "metadata": {},
   "source": [
    "<font color=\"red\"><b>Student Names and IDs:\n",
    "    1. Parag Shendye 384146 \n",
    "    2. \n",
    "    3."
   ]
  },
  {
   "cell_type": "markdown",
   "metadata": {},
   "source": [
    "## Preprocessing of the Dataset (5 points)\n",
    " You should carry out some preprocessing steps before starting the analysis:\n",
    " - Select 90% of 'population_density' dataset by random sampling.\n",
    "     - Use one of the group member's student number as a seed.\n",
    " - Add another column to the dataset:\n",
    "     - Name it 'population_density_categorical'.\n",
    "     - The values in this column depend on values in 'population_density' column and will be defined as follows:\n",
    "        - 5824=<population density              corresponding value in 'population_density_categorical' column: 'very high'\n",
    "        - 4368=<population density<5824         corresponding value in 'population_density_categorical' column: 'high'\n",
    "        - 2912=<population density<4368         corresponding value in 'population_density_categorical' column: 'medium'\n",
    "        - 1456=<population density<2912         corresponding value in 'population_density_categorical' column: 'low' \n",
    "        - population density<1456               corresponding value in 'population_density_categorical' column: 'very low'\n",
    " - After completing this preprocessing step, export your final dataset as 'population_density_categorical.csv' dataset and use that for next steps of the assignment.\n",
    " - If it is not directly mentioned, you should always use your extracted (above-created) dataset (without any cleaning).\n",
    " - <font color='red'>Important!</font> Make sure that you submit your extracted dataset with your result in moodle."
   ]
  },
  {
   "cell_type": "code",
   "execution_count": 1,
   "metadata": {},
   "outputs": [
    {
     "name": "stdout",
     "output_type": "stream",
     "text": [
      "<class 'pandas.core.frame.DataFrame'>\n",
      "RangeIndex: 48204 entries, 0 to 48203\n",
      "Data columns (total 9 columns):\n",
      "holiday                 48204 non-null object\n",
      "temperature             48204 non-null float64\n",
      "rain_1h                 48204 non-null float64\n",
      "snow_1h                 48204 non-null float64\n",
      "clouds_percentage       48204 non-null int64\n",
      "weather_type            48204 non-null object\n",
      "weather_type_details    48204 non-null object\n",
      "date_time               48204 non-null object\n",
      "population_density      48204 non-null int64\n",
      "dtypes: float64(3), int64(2), object(4)\n",
      "memory usage: 3.3+ MB\n",
      "None\n",
      "48204\n",
      "<class 'pandas.core.frame.DataFrame'>\n",
      "Int64Index: 43384 entries, 21380 to 28165\n",
      "Data columns (total 9 columns):\n",
      "holiday                 43384 non-null object\n",
      "temperature             43384 non-null float64\n",
      "rain_1h                 43384 non-null float64\n",
      "snow_1h                 43384 non-null float64\n",
      "clouds_percentage       43384 non-null int64\n",
      "weather_type            43384 non-null object\n",
      "weather_type_details    43384 non-null object\n",
      "date_time               43384 non-null object\n",
      "population_density      43384 non-null int64\n",
      "dtypes: float64(3), int64(2), object(4)\n",
      "memory usage: 3.3+ MB\n",
      "None\n",
      "43384\n"
     ]
    }
   ],
   "source": [
    "# Your code:\n",
    "import pandas as pd\n",
    "import numpy as np\n",
    "\n",
    "population_density_df = pd.read_csv(\"population_density.csv\")\n",
    "population_density_df.head()\n",
    "print(population_density_df.info())\n",
    "print(population_density_df.shape[0])\n",
    "\n",
    "population_density = population_density_df.sample(frac=0.9, random_state=384146)\n",
    "print(population_density.info())\n",
    "print(population_density.shape[0])\n",
    "\n",
    "\n",
    "\n",
    "\n",
    "\n",
    "\n"
   ]
  },
  {
   "cell_type": "code",
   "execution_count": 2,
   "metadata": {},
   "outputs": [
    {
     "data": {
      "text/html": [
       "<div>\n",
       "<style scoped>\n",
       "    .dataframe tbody tr th:only-of-type {\n",
       "        vertical-align: middle;\n",
       "    }\n",
       "\n",
       "    .dataframe tbody tr th {\n",
       "        vertical-align: top;\n",
       "    }\n",
       "\n",
       "    .dataframe thead th {\n",
       "        text-align: right;\n",
       "    }\n",
       "</style>\n",
       "<table border=\"1\" class=\"dataframe\">\n",
       "  <thead>\n",
       "    <tr style=\"text-align: right;\">\n",
       "      <th></th>\n",
       "      <th>holiday</th>\n",
       "      <th>temperature</th>\n",
       "      <th>rain_1h</th>\n",
       "      <th>snow_1h</th>\n",
       "      <th>clouds_percentage</th>\n",
       "      <th>weather_type</th>\n",
       "      <th>weather_type_details</th>\n",
       "      <th>date_time</th>\n",
       "      <th>population_density</th>\n",
       "    </tr>\n",
       "  </thead>\n",
       "  <tbody>\n",
       "    <tr>\n",
       "      <th>21380</th>\n",
       "      <td>None</td>\n",
       "      <td>276.15</td>\n",
       "      <td>0.0</td>\n",
       "      <td>0.0</td>\n",
       "      <td>1</td>\n",
       "      <td>Drizzle</td>\n",
       "      <td>light intensity drizzle</td>\n",
       "      <td>2/19/2016 5:00</td>\n",
       "      <td>2539</td>\n",
       "    </tr>\n",
       "    <tr>\n",
       "      <th>26524</th>\n",
       "      <td>None</td>\n",
       "      <td>286.07</td>\n",
       "      <td>0.0</td>\n",
       "      <td>0.0</td>\n",
       "      <td>1</td>\n",
       "      <td>Clear</td>\n",
       "      <td>sky is clear</td>\n",
       "      <td>9/11/2016 6:00</td>\n",
       "      <td>1276</td>\n",
       "    </tr>\n",
       "    <tr>\n",
       "      <th>30376</th>\n",
       "      <td>None</td>\n",
       "      <td>274.65</td>\n",
       "      <td>0.0</td>\n",
       "      <td>0.0</td>\n",
       "      <td>90</td>\n",
       "      <td>Mist</td>\n",
       "      <td>mist</td>\n",
       "      <td>1/22/2017 5:00</td>\n",
       "      <td>591</td>\n",
       "    </tr>\n",
       "    <tr>\n",
       "      <th>29126</th>\n",
       "      <td>None</td>\n",
       "      <td>257.55</td>\n",
       "      <td>0.0</td>\n",
       "      <td>0.0</td>\n",
       "      <td>1</td>\n",
       "      <td>Snow</td>\n",
       "      <td>light snow</td>\n",
       "      <td>12/14/2016 12:00</td>\n",
       "      <td>4944</td>\n",
       "    </tr>\n",
       "    <tr>\n",
       "      <th>5723</th>\n",
       "      <td>None</td>\n",
       "      <td>277.23</td>\n",
       "      <td>0.0</td>\n",
       "      <td>0.0</td>\n",
       "      <td>1</td>\n",
       "      <td>Clear</td>\n",
       "      <td>sky is clear</td>\n",
       "      <td>5/3/2013 22:00</td>\n",
       "      <td>2972</td>\n",
       "    </tr>\n",
       "  </tbody>\n",
       "</table>\n",
       "</div>"
      ],
      "text/plain": [
       "      holiday  temperature  rain_1h  snow_1h  clouds_percentage weather_type  \\\n",
       "21380    None       276.15      0.0      0.0                  1      Drizzle   \n",
       "26524    None       286.07      0.0      0.0                  1        Clear   \n",
       "30376    None       274.65      0.0      0.0                 90         Mist   \n",
       "29126    None       257.55      0.0      0.0                  1         Snow   \n",
       "5723     None       277.23      0.0      0.0                  1        Clear   \n",
       "\n",
       "          weather_type_details         date_time  population_density  \n",
       "21380  light intensity drizzle    2/19/2016 5:00                2539  \n",
       "26524             sky is clear    9/11/2016 6:00                1276  \n",
       "30376                     mist    1/22/2017 5:00                 591  \n",
       "29126               light snow  12/14/2016 12:00                4944  \n",
       "5723              sky is clear    5/3/2013 22:00                2972  "
      ]
     },
     "execution_count": 2,
     "metadata": {},
     "output_type": "execute_result"
    }
   ],
   "source": [
    "population_density.head()"
   ]
  },
  {
   "cell_type": "code",
   "execution_count": 10,
   "metadata": {},
   "outputs": [],
   "source": [
    "#adding additional column \"population_density_categorical\" to this dataframe\n",
    "\n",
    "conditions = [\n",
    "    population_density[\"population_density\"]>= 5824,\n",
    "    np.logical_and(population_density[\"population_density\"] >= 4368, population_density[\"population_density\"]<5824) ,\n",
    "    np.logical_and(population_density[\"population_density\"]>= 2912, population_density[\"population_density\"]<4368),\n",
    "    np.logical_and(population_density[\"population_density\"]>= 1456, population_density[\"population_density\"]<2912),\n",
    "    \n",
    "]\n",
    "\n",
    "outputs = ['very high', 'high', 'medium', 'low']\n",
    "\n",
    "population_density_categorical = np.select(conditions,outputs,'very low')\n",
    "population_density[\"population_density_categorical\"] = population_density_categorical"
   ]
  },
  {
   "cell_type": "code",
   "execution_count": 11,
   "metadata": {},
   "outputs": [
    {
     "data": {
      "text/html": [
       "<div>\n",
       "<style scoped>\n",
       "    .dataframe tbody tr th:only-of-type {\n",
       "        vertical-align: middle;\n",
       "    }\n",
       "\n",
       "    .dataframe tbody tr th {\n",
       "        vertical-align: top;\n",
       "    }\n",
       "\n",
       "    .dataframe thead th {\n",
       "        text-align: right;\n",
       "    }\n",
       "</style>\n",
       "<table border=\"1\" class=\"dataframe\">\n",
       "  <thead>\n",
       "    <tr style=\"text-align: right;\">\n",
       "      <th></th>\n",
       "      <th>holiday</th>\n",
       "      <th>temperature</th>\n",
       "      <th>rain_1h</th>\n",
       "      <th>snow_1h</th>\n",
       "      <th>clouds_percentage</th>\n",
       "      <th>weather_type</th>\n",
       "      <th>weather_type_details</th>\n",
       "      <th>date_time</th>\n",
       "      <th>population_density</th>\n",
       "      <th>population_density_categorical</th>\n",
       "    </tr>\n",
       "  </thead>\n",
       "  <tbody>\n",
       "    <tr>\n",
       "      <th>21380</th>\n",
       "      <td>None</td>\n",
       "      <td>276.15</td>\n",
       "      <td>0.0</td>\n",
       "      <td>0.0</td>\n",
       "      <td>1</td>\n",
       "      <td>Drizzle</td>\n",
       "      <td>light intensity drizzle</td>\n",
       "      <td>2/19/2016 5:00</td>\n",
       "      <td>2539</td>\n",
       "      <td>low</td>\n",
       "    </tr>\n",
       "    <tr>\n",
       "      <th>26524</th>\n",
       "      <td>None</td>\n",
       "      <td>286.07</td>\n",
       "      <td>0.0</td>\n",
       "      <td>0.0</td>\n",
       "      <td>1</td>\n",
       "      <td>Clear</td>\n",
       "      <td>sky is clear</td>\n",
       "      <td>9/11/2016 6:00</td>\n",
       "      <td>1276</td>\n",
       "      <td>very low</td>\n",
       "    </tr>\n",
       "    <tr>\n",
       "      <th>30376</th>\n",
       "      <td>None</td>\n",
       "      <td>274.65</td>\n",
       "      <td>0.0</td>\n",
       "      <td>0.0</td>\n",
       "      <td>90</td>\n",
       "      <td>Mist</td>\n",
       "      <td>mist</td>\n",
       "      <td>1/22/2017 5:00</td>\n",
       "      <td>591</td>\n",
       "      <td>very low</td>\n",
       "    </tr>\n",
       "    <tr>\n",
       "      <th>29126</th>\n",
       "      <td>None</td>\n",
       "      <td>257.55</td>\n",
       "      <td>0.0</td>\n",
       "      <td>0.0</td>\n",
       "      <td>1</td>\n",
       "      <td>Snow</td>\n",
       "      <td>light snow</td>\n",
       "      <td>12/14/2016 12:00</td>\n",
       "      <td>4944</td>\n",
       "      <td>high</td>\n",
       "    </tr>\n",
       "    <tr>\n",
       "      <th>5723</th>\n",
       "      <td>None</td>\n",
       "      <td>277.23</td>\n",
       "      <td>0.0</td>\n",
       "      <td>0.0</td>\n",
       "      <td>1</td>\n",
       "      <td>Clear</td>\n",
       "      <td>sky is clear</td>\n",
       "      <td>5/3/2013 22:00</td>\n",
       "      <td>2972</td>\n",
       "      <td>medium</td>\n",
       "    </tr>\n",
       "  </tbody>\n",
       "</table>\n",
       "</div>"
      ],
      "text/plain": [
       "      holiday  temperature  rain_1h  snow_1h  clouds_percentage weather_type  \\\n",
       "21380    None       276.15      0.0      0.0                  1      Drizzle   \n",
       "26524    None       286.07      0.0      0.0                  1        Clear   \n",
       "30376    None       274.65      0.0      0.0                 90         Mist   \n",
       "29126    None       257.55      0.0      0.0                  1         Snow   \n",
       "5723     None       277.23      0.0      0.0                  1        Clear   \n",
       "\n",
       "          weather_type_details         date_time  population_density  \\\n",
       "21380  light intensity drizzle    2/19/2016 5:00                2539   \n",
       "26524             sky is clear    9/11/2016 6:00                1276   \n",
       "30376                     mist    1/22/2017 5:00                 591   \n",
       "29126               light snow  12/14/2016 12:00                4944   \n",
       "5723              sky is clear    5/3/2013 22:00                2972   \n",
       "\n",
       "      population_density_categorical  \n",
       "21380                            low  \n",
       "26524                       very low  \n",
       "30376                       very low  \n",
       "29126                           high  \n",
       "5723                          medium  "
      ]
     },
     "execution_count": 11,
     "metadata": {},
     "output_type": "execute_result"
    }
   ],
   "source": [
    "population_density.head()"
   ]
  },
  {
   "cell_type": "code",
   "execution_count": 12,
   "metadata": {},
   "outputs": [],
   "source": [
    "population_density.to_csv(\"population_density_categorical.csv\")"
   ]
  },
  {
   "cell_type": "markdown",
   "metadata": {},
   "source": [
    "## Question 1 - Insights into the Data (20 points):"
   ]
  },
  {
   "cell_type": "markdown",
   "metadata": {},
   "source": [
    "### Dealing with Outliers (10 points)\n",
    "   (a) Use a boxplot to find and remove the outliers from \"temperature\". Note that based on the boxplot the values greater than upper-whisker and less than lower-whisker are considered as the outliers. Now you should  have two datasets (cleaned and original)."
   ]
  },
  {
   "cell_type": "code",
   "execution_count": 28,
   "metadata": {},
   "outputs": [
    {
     "data": {
      "application/javascript": [
       "/* Put everything inside the global mpl namespace */\n",
       "window.mpl = {};\n",
       "\n",
       "\n",
       "mpl.get_websocket_type = function() {\n",
       "    if (typeof(WebSocket) !== 'undefined') {\n",
       "        return WebSocket;\n",
       "    } else if (typeof(MozWebSocket) !== 'undefined') {\n",
       "        return MozWebSocket;\n",
       "    } else {\n",
       "        alert('Your browser does not have WebSocket support.' +\n",
       "              'Please try Chrome, Safari or Firefox ≥ 6. ' +\n",
       "              'Firefox 4 and 5 are also supported but you ' +\n",
       "              'have to enable WebSockets in about:config.');\n",
       "    };\n",
       "}\n",
       "\n",
       "mpl.figure = function(figure_id, websocket, ondownload, parent_element) {\n",
       "    this.id = figure_id;\n",
       "\n",
       "    this.ws = websocket;\n",
       "\n",
       "    this.supports_binary = (this.ws.binaryType != undefined);\n",
       "\n",
       "    if (!this.supports_binary) {\n",
       "        var warnings = document.getElementById(\"mpl-warnings\");\n",
       "        if (warnings) {\n",
       "            warnings.style.display = 'block';\n",
       "            warnings.textContent = (\n",
       "                \"This browser does not support binary websocket messages. \" +\n",
       "                    \"Performance may be slow.\");\n",
       "        }\n",
       "    }\n",
       "\n",
       "    this.imageObj = new Image();\n",
       "\n",
       "    this.context = undefined;\n",
       "    this.message = undefined;\n",
       "    this.canvas = undefined;\n",
       "    this.rubberband_canvas = undefined;\n",
       "    this.rubberband_context = undefined;\n",
       "    this.format_dropdown = undefined;\n",
       "\n",
       "    this.image_mode = 'full';\n",
       "\n",
       "    this.root = $('<div/>');\n",
       "    this._root_extra_style(this.root)\n",
       "    this.root.attr('style', 'display: inline-block');\n",
       "\n",
       "    $(parent_element).append(this.root);\n",
       "\n",
       "    this._init_header(this);\n",
       "    this._init_canvas(this);\n",
       "    this._init_toolbar(this);\n",
       "\n",
       "    var fig = this;\n",
       "\n",
       "    this.waiting = false;\n",
       "\n",
       "    this.ws.onopen =  function () {\n",
       "            fig.send_message(\"supports_binary\", {value: fig.supports_binary});\n",
       "            fig.send_message(\"send_image_mode\", {});\n",
       "            if (mpl.ratio != 1) {\n",
       "                fig.send_message(\"set_dpi_ratio\", {'dpi_ratio': mpl.ratio});\n",
       "            }\n",
       "            fig.send_message(\"refresh\", {});\n",
       "        }\n",
       "\n",
       "    this.imageObj.onload = function() {\n",
       "            if (fig.image_mode == 'full') {\n",
       "                // Full images could contain transparency (where diff images\n",
       "                // almost always do), so we need to clear the canvas so that\n",
       "                // there is no ghosting.\n",
       "                fig.context.clearRect(0, 0, fig.canvas.width, fig.canvas.height);\n",
       "            }\n",
       "            fig.context.drawImage(fig.imageObj, 0, 0);\n",
       "        };\n",
       "\n",
       "    this.imageObj.onunload = function() {\n",
       "        fig.ws.close();\n",
       "    }\n",
       "\n",
       "    this.ws.onmessage = this._make_on_message_function(this);\n",
       "\n",
       "    this.ondownload = ondownload;\n",
       "}\n",
       "\n",
       "mpl.figure.prototype._init_header = function() {\n",
       "    var titlebar = $(\n",
       "        '<div class=\"ui-dialog-titlebar ui-widget-header ui-corner-all ' +\n",
       "        'ui-helper-clearfix\"/>');\n",
       "    var titletext = $(\n",
       "        '<div class=\"ui-dialog-title\" style=\"width: 100%; ' +\n",
       "        'text-align: center; padding: 3px;\"/>');\n",
       "    titlebar.append(titletext)\n",
       "    this.root.append(titlebar);\n",
       "    this.header = titletext[0];\n",
       "}\n",
       "\n",
       "\n",
       "\n",
       "mpl.figure.prototype._canvas_extra_style = function(canvas_div) {\n",
       "\n",
       "}\n",
       "\n",
       "\n",
       "mpl.figure.prototype._root_extra_style = function(canvas_div) {\n",
       "\n",
       "}\n",
       "\n",
       "mpl.figure.prototype._init_canvas = function() {\n",
       "    var fig = this;\n",
       "\n",
       "    var canvas_div = $('<div/>');\n",
       "\n",
       "    canvas_div.attr('style', 'position: relative; clear: both; outline: 0');\n",
       "\n",
       "    function canvas_keyboard_event(event) {\n",
       "        return fig.key_event(event, event['data']);\n",
       "    }\n",
       "\n",
       "    canvas_div.keydown('key_press', canvas_keyboard_event);\n",
       "    canvas_div.keyup('key_release', canvas_keyboard_event);\n",
       "    this.canvas_div = canvas_div\n",
       "    this._canvas_extra_style(canvas_div)\n",
       "    this.root.append(canvas_div);\n",
       "\n",
       "    var canvas = $('<canvas/>');\n",
       "    canvas.addClass('mpl-canvas');\n",
       "    canvas.attr('style', \"left: 0; top: 0; z-index: 0; outline: 0\")\n",
       "\n",
       "    this.canvas = canvas[0];\n",
       "    this.context = canvas[0].getContext(\"2d\");\n",
       "\n",
       "    var backingStore = this.context.backingStorePixelRatio ||\n",
       "\tthis.context.webkitBackingStorePixelRatio ||\n",
       "\tthis.context.mozBackingStorePixelRatio ||\n",
       "\tthis.context.msBackingStorePixelRatio ||\n",
       "\tthis.context.oBackingStorePixelRatio ||\n",
       "\tthis.context.backingStorePixelRatio || 1;\n",
       "\n",
       "    mpl.ratio = (window.devicePixelRatio || 1) / backingStore;\n",
       "\n",
       "    var rubberband = $('<canvas/>');\n",
       "    rubberband.attr('style', \"position: absolute; left: 0; top: 0; z-index: 1;\")\n",
       "\n",
       "    var pass_mouse_events = true;\n",
       "\n",
       "    canvas_div.resizable({\n",
       "        start: function(event, ui) {\n",
       "            pass_mouse_events = false;\n",
       "        },\n",
       "        resize: function(event, ui) {\n",
       "            fig.request_resize(ui.size.width, ui.size.height);\n",
       "        },\n",
       "        stop: function(event, ui) {\n",
       "            pass_mouse_events = true;\n",
       "            fig.request_resize(ui.size.width, ui.size.height);\n",
       "        },\n",
       "    });\n",
       "\n",
       "    function mouse_event_fn(event) {\n",
       "        if (pass_mouse_events)\n",
       "            return fig.mouse_event(event, event['data']);\n",
       "    }\n",
       "\n",
       "    rubberband.mousedown('button_press', mouse_event_fn);\n",
       "    rubberband.mouseup('button_release', mouse_event_fn);\n",
       "    // Throttle sequential mouse events to 1 every 20ms.\n",
       "    rubberband.mousemove('motion_notify', mouse_event_fn);\n",
       "\n",
       "    rubberband.mouseenter('figure_enter', mouse_event_fn);\n",
       "    rubberband.mouseleave('figure_leave', mouse_event_fn);\n",
       "\n",
       "    canvas_div.on(\"wheel\", function (event) {\n",
       "        event = event.originalEvent;\n",
       "        event['data'] = 'scroll'\n",
       "        if (event.deltaY < 0) {\n",
       "            event.step = 1;\n",
       "        } else {\n",
       "            event.step = -1;\n",
       "        }\n",
       "        mouse_event_fn(event);\n",
       "    });\n",
       "\n",
       "    canvas_div.append(canvas);\n",
       "    canvas_div.append(rubberband);\n",
       "\n",
       "    this.rubberband = rubberband;\n",
       "    this.rubberband_canvas = rubberband[0];\n",
       "    this.rubberband_context = rubberband[0].getContext(\"2d\");\n",
       "    this.rubberband_context.strokeStyle = \"#000000\";\n",
       "\n",
       "    this._resize_canvas = function(width, height) {\n",
       "        // Keep the size of the canvas, canvas container, and rubber band\n",
       "        // canvas in synch.\n",
       "        canvas_div.css('width', width)\n",
       "        canvas_div.css('height', height)\n",
       "\n",
       "        canvas.attr('width', width * mpl.ratio);\n",
       "        canvas.attr('height', height * mpl.ratio);\n",
       "        canvas.attr('style', 'width: ' + width + 'px; height: ' + height + 'px;');\n",
       "\n",
       "        rubberband.attr('width', width);\n",
       "        rubberband.attr('height', height);\n",
       "    }\n",
       "\n",
       "    // Set the figure to an initial 600x600px, this will subsequently be updated\n",
       "    // upon first draw.\n",
       "    this._resize_canvas(600, 600);\n",
       "\n",
       "    // Disable right mouse context menu.\n",
       "    $(this.rubberband_canvas).bind(\"contextmenu\",function(e){\n",
       "        return false;\n",
       "    });\n",
       "\n",
       "    function set_focus () {\n",
       "        canvas.focus();\n",
       "        canvas_div.focus();\n",
       "    }\n",
       "\n",
       "    window.setTimeout(set_focus, 100);\n",
       "}\n",
       "\n",
       "mpl.figure.prototype._init_toolbar = function() {\n",
       "    var fig = this;\n",
       "\n",
       "    var nav_element = $('<div/>')\n",
       "    nav_element.attr('style', 'width: 100%');\n",
       "    this.root.append(nav_element);\n",
       "\n",
       "    // Define a callback function for later on.\n",
       "    function toolbar_event(event) {\n",
       "        return fig.toolbar_button_onclick(event['data']);\n",
       "    }\n",
       "    function toolbar_mouse_event(event) {\n",
       "        return fig.toolbar_button_onmouseover(event['data']);\n",
       "    }\n",
       "\n",
       "    for(var toolbar_ind in mpl.toolbar_items) {\n",
       "        var name = mpl.toolbar_items[toolbar_ind][0];\n",
       "        var tooltip = mpl.toolbar_items[toolbar_ind][1];\n",
       "        var image = mpl.toolbar_items[toolbar_ind][2];\n",
       "        var method_name = mpl.toolbar_items[toolbar_ind][3];\n",
       "\n",
       "        if (!name) {\n",
       "            // put a spacer in here.\n",
       "            continue;\n",
       "        }\n",
       "        var button = $('<button/>');\n",
       "        button.addClass('ui-button ui-widget ui-state-default ui-corner-all ' +\n",
       "                        'ui-button-icon-only');\n",
       "        button.attr('role', 'button');\n",
       "        button.attr('aria-disabled', 'false');\n",
       "        button.click(method_name, toolbar_event);\n",
       "        button.mouseover(tooltip, toolbar_mouse_event);\n",
       "\n",
       "        var icon_img = $('<span/>');\n",
       "        icon_img.addClass('ui-button-icon-primary ui-icon');\n",
       "        icon_img.addClass(image);\n",
       "        icon_img.addClass('ui-corner-all');\n",
       "\n",
       "        var tooltip_span = $('<span/>');\n",
       "        tooltip_span.addClass('ui-button-text');\n",
       "        tooltip_span.html(tooltip);\n",
       "\n",
       "        button.append(icon_img);\n",
       "        button.append(tooltip_span);\n",
       "\n",
       "        nav_element.append(button);\n",
       "    }\n",
       "\n",
       "    var fmt_picker_span = $('<span/>');\n",
       "\n",
       "    var fmt_picker = $('<select/>');\n",
       "    fmt_picker.addClass('mpl-toolbar-option ui-widget ui-widget-content');\n",
       "    fmt_picker_span.append(fmt_picker);\n",
       "    nav_element.append(fmt_picker_span);\n",
       "    this.format_dropdown = fmt_picker[0];\n",
       "\n",
       "    for (var ind in mpl.extensions) {\n",
       "        var fmt = mpl.extensions[ind];\n",
       "        var option = $(\n",
       "            '<option/>', {selected: fmt === mpl.default_extension}).html(fmt);\n",
       "        fmt_picker.append(option)\n",
       "    }\n",
       "\n",
       "    // Add hover states to the ui-buttons\n",
       "    $( \".ui-button\" ).hover(\n",
       "        function() { $(this).addClass(\"ui-state-hover\");},\n",
       "        function() { $(this).removeClass(\"ui-state-hover\");}\n",
       "    );\n",
       "\n",
       "    var status_bar = $('<span class=\"mpl-message\"/>');\n",
       "    nav_element.append(status_bar);\n",
       "    this.message = status_bar[0];\n",
       "}\n",
       "\n",
       "mpl.figure.prototype.request_resize = function(x_pixels, y_pixels) {\n",
       "    // Request matplotlib to resize the figure. Matplotlib will then trigger a resize in the client,\n",
       "    // which will in turn request a refresh of the image.\n",
       "    this.send_message('resize', {'width': x_pixels, 'height': y_pixels});\n",
       "}\n",
       "\n",
       "mpl.figure.prototype.send_message = function(type, properties) {\n",
       "    properties['type'] = type;\n",
       "    properties['figure_id'] = this.id;\n",
       "    this.ws.send(JSON.stringify(properties));\n",
       "}\n",
       "\n",
       "mpl.figure.prototype.send_draw_message = function() {\n",
       "    if (!this.waiting) {\n",
       "        this.waiting = true;\n",
       "        this.ws.send(JSON.stringify({type: \"draw\", figure_id: this.id}));\n",
       "    }\n",
       "}\n",
       "\n",
       "\n",
       "mpl.figure.prototype.handle_save = function(fig, msg) {\n",
       "    var format_dropdown = fig.format_dropdown;\n",
       "    var format = format_dropdown.options[format_dropdown.selectedIndex].value;\n",
       "    fig.ondownload(fig, format);\n",
       "}\n",
       "\n",
       "\n",
       "mpl.figure.prototype.handle_resize = function(fig, msg) {\n",
       "    var size = msg['size'];\n",
       "    if (size[0] != fig.canvas.width || size[1] != fig.canvas.height) {\n",
       "        fig._resize_canvas(size[0], size[1]);\n",
       "        fig.send_message(\"refresh\", {});\n",
       "    };\n",
       "}\n",
       "\n",
       "mpl.figure.prototype.handle_rubberband = function(fig, msg) {\n",
       "    var x0 = msg['x0'] / mpl.ratio;\n",
       "    var y0 = (fig.canvas.height - msg['y0']) / mpl.ratio;\n",
       "    var x1 = msg['x1'] / mpl.ratio;\n",
       "    var y1 = (fig.canvas.height - msg['y1']) / mpl.ratio;\n",
       "    x0 = Math.floor(x0) + 0.5;\n",
       "    y0 = Math.floor(y0) + 0.5;\n",
       "    x1 = Math.floor(x1) + 0.5;\n",
       "    y1 = Math.floor(y1) + 0.5;\n",
       "    var min_x = Math.min(x0, x1);\n",
       "    var min_y = Math.min(y0, y1);\n",
       "    var width = Math.abs(x1 - x0);\n",
       "    var height = Math.abs(y1 - y0);\n",
       "\n",
       "    fig.rubberband_context.clearRect(\n",
       "        0, 0, fig.canvas.width, fig.canvas.height);\n",
       "\n",
       "    fig.rubberband_context.strokeRect(min_x, min_y, width, height);\n",
       "}\n",
       "\n",
       "mpl.figure.prototype.handle_figure_label = function(fig, msg) {\n",
       "    // Updates the figure title.\n",
       "    fig.header.textContent = msg['label'];\n",
       "}\n",
       "\n",
       "mpl.figure.prototype.handle_cursor = function(fig, msg) {\n",
       "    var cursor = msg['cursor'];\n",
       "    switch(cursor)\n",
       "    {\n",
       "    case 0:\n",
       "        cursor = 'pointer';\n",
       "        break;\n",
       "    case 1:\n",
       "        cursor = 'default';\n",
       "        break;\n",
       "    case 2:\n",
       "        cursor = 'crosshair';\n",
       "        break;\n",
       "    case 3:\n",
       "        cursor = 'move';\n",
       "        break;\n",
       "    }\n",
       "    fig.rubberband_canvas.style.cursor = cursor;\n",
       "}\n",
       "\n",
       "mpl.figure.prototype.handle_message = function(fig, msg) {\n",
       "    fig.message.textContent = msg['message'];\n",
       "}\n",
       "\n",
       "mpl.figure.prototype.handle_draw = function(fig, msg) {\n",
       "    // Request the server to send over a new figure.\n",
       "    fig.send_draw_message();\n",
       "}\n",
       "\n",
       "mpl.figure.prototype.handle_image_mode = function(fig, msg) {\n",
       "    fig.image_mode = msg['mode'];\n",
       "}\n",
       "\n",
       "mpl.figure.prototype.updated_canvas_event = function() {\n",
       "    // Called whenever the canvas gets updated.\n",
       "    this.send_message(\"ack\", {});\n",
       "}\n",
       "\n",
       "// A function to construct a web socket function for onmessage handling.\n",
       "// Called in the figure constructor.\n",
       "mpl.figure.prototype._make_on_message_function = function(fig) {\n",
       "    return function socket_on_message(evt) {\n",
       "        if (evt.data instanceof Blob) {\n",
       "            /* FIXME: We get \"Resource interpreted as Image but\n",
       "             * transferred with MIME type text/plain:\" errors on\n",
       "             * Chrome.  But how to set the MIME type?  It doesn't seem\n",
       "             * to be part of the websocket stream */\n",
       "            evt.data.type = \"image/png\";\n",
       "\n",
       "            /* Free the memory for the previous frames */\n",
       "            if (fig.imageObj.src) {\n",
       "                (window.URL || window.webkitURL).revokeObjectURL(\n",
       "                    fig.imageObj.src);\n",
       "            }\n",
       "\n",
       "            fig.imageObj.src = (window.URL || window.webkitURL).createObjectURL(\n",
       "                evt.data);\n",
       "            fig.updated_canvas_event();\n",
       "            fig.waiting = false;\n",
       "            return;\n",
       "        }\n",
       "        else if (typeof evt.data === 'string' && evt.data.slice(0, 21) == \"data:image/png;base64\") {\n",
       "            fig.imageObj.src = evt.data;\n",
       "            fig.updated_canvas_event();\n",
       "            fig.waiting = false;\n",
       "            return;\n",
       "        }\n",
       "\n",
       "        var msg = JSON.parse(evt.data);\n",
       "        var msg_type = msg['type'];\n",
       "\n",
       "        // Call the  \"handle_{type}\" callback, which takes\n",
       "        // the figure and JSON message as its only arguments.\n",
       "        try {\n",
       "            var callback = fig[\"handle_\" + msg_type];\n",
       "        } catch (e) {\n",
       "            console.log(\"No handler for the '\" + msg_type + \"' message type: \", msg);\n",
       "            return;\n",
       "        }\n",
       "\n",
       "        if (callback) {\n",
       "            try {\n",
       "                // console.log(\"Handling '\" + msg_type + \"' message: \", msg);\n",
       "                callback(fig, msg);\n",
       "            } catch (e) {\n",
       "                console.log(\"Exception inside the 'handler_\" + msg_type + \"' callback:\", e, e.stack, msg);\n",
       "            }\n",
       "        }\n",
       "    };\n",
       "}\n",
       "\n",
       "// from http://stackoverflow.com/questions/1114465/getting-mouse-location-in-canvas\n",
       "mpl.findpos = function(e) {\n",
       "    //this section is from http://www.quirksmode.org/js/events_properties.html\n",
       "    var targ;\n",
       "    if (!e)\n",
       "        e = window.event;\n",
       "    if (e.target)\n",
       "        targ = e.target;\n",
       "    else if (e.srcElement)\n",
       "        targ = e.srcElement;\n",
       "    if (targ.nodeType == 3) // defeat Safari bug\n",
       "        targ = targ.parentNode;\n",
       "\n",
       "    // jQuery normalizes the pageX and pageY\n",
       "    // pageX,Y are the mouse positions relative to the document\n",
       "    // offset() returns the position of the element relative to the document\n",
       "    var x = e.pageX - $(targ).offset().left;\n",
       "    var y = e.pageY - $(targ).offset().top;\n",
       "\n",
       "    return {\"x\": x, \"y\": y};\n",
       "};\n",
       "\n",
       "/*\n",
       " * return a copy of an object with only non-object keys\n",
       " * we need this to avoid circular references\n",
       " * http://stackoverflow.com/a/24161582/3208463\n",
       " */\n",
       "function simpleKeys (original) {\n",
       "  return Object.keys(original).reduce(function (obj, key) {\n",
       "    if (typeof original[key] !== 'object')\n",
       "        obj[key] = original[key]\n",
       "    return obj;\n",
       "  }, {});\n",
       "}\n",
       "\n",
       "mpl.figure.prototype.mouse_event = function(event, name) {\n",
       "    var canvas_pos = mpl.findpos(event)\n",
       "\n",
       "    if (name === 'button_press')\n",
       "    {\n",
       "        this.canvas.focus();\n",
       "        this.canvas_div.focus();\n",
       "    }\n",
       "\n",
       "    var x = canvas_pos.x * mpl.ratio;\n",
       "    var y = canvas_pos.y * mpl.ratio;\n",
       "\n",
       "    this.send_message(name, {x: x, y: y, button: event.button,\n",
       "                             step: event.step,\n",
       "                             guiEvent: simpleKeys(event)});\n",
       "\n",
       "    /* This prevents the web browser from automatically changing to\n",
       "     * the text insertion cursor when the button is pressed.  We want\n",
       "     * to control all of the cursor setting manually through the\n",
       "     * 'cursor' event from matplotlib */\n",
       "    event.preventDefault();\n",
       "    return false;\n",
       "}\n",
       "\n",
       "mpl.figure.prototype._key_event_extra = function(event, name) {\n",
       "    // Handle any extra behaviour associated with a key event\n",
       "}\n",
       "\n",
       "mpl.figure.prototype.key_event = function(event, name) {\n",
       "\n",
       "    // Prevent repeat events\n",
       "    if (name == 'key_press')\n",
       "    {\n",
       "        if (event.which === this._key)\n",
       "            return;\n",
       "        else\n",
       "            this._key = event.which;\n",
       "    }\n",
       "    if (name == 'key_release')\n",
       "        this._key = null;\n",
       "\n",
       "    var value = '';\n",
       "    if (event.ctrlKey && event.which != 17)\n",
       "        value += \"ctrl+\";\n",
       "    if (event.altKey && event.which != 18)\n",
       "        value += \"alt+\";\n",
       "    if (event.shiftKey && event.which != 16)\n",
       "        value += \"shift+\";\n",
       "\n",
       "    value += 'k';\n",
       "    value += event.which.toString();\n",
       "\n",
       "    this._key_event_extra(event, name);\n",
       "\n",
       "    this.send_message(name, {key: value,\n",
       "                             guiEvent: simpleKeys(event)});\n",
       "    return false;\n",
       "}\n",
       "\n",
       "mpl.figure.prototype.toolbar_button_onclick = function(name) {\n",
       "    if (name == 'download') {\n",
       "        this.handle_save(this, null);\n",
       "    } else {\n",
       "        this.send_message(\"toolbar_button\", {name: name});\n",
       "    }\n",
       "};\n",
       "\n",
       "mpl.figure.prototype.toolbar_button_onmouseover = function(tooltip) {\n",
       "    this.message.textContent = tooltip;\n",
       "};\n",
       "mpl.toolbar_items = [[\"Home\", \"Reset original view\", \"fa fa-home icon-home\", \"home\"], [\"Back\", \"Back to previous view\", \"fa fa-arrow-left icon-arrow-left\", \"back\"], [\"Forward\", \"Forward to next view\", \"fa fa-arrow-right icon-arrow-right\", \"forward\"], [\"\", \"\", \"\", \"\"], [\"Pan\", \"Pan axes with left mouse, zoom with right\", \"fa fa-arrows icon-move\", \"pan\"], [\"Zoom\", \"Zoom to rectangle\", \"fa fa-square-o icon-check-empty\", \"zoom\"], [\"\", \"\", \"\", \"\"], [\"Download\", \"Download plot\", \"fa fa-floppy-o icon-save\", \"download\"]];\n",
       "\n",
       "mpl.extensions = [\"eps\", \"jpeg\", \"pdf\", \"png\", \"ps\", \"raw\", \"svg\", \"tif\"];\n",
       "\n",
       "mpl.default_extension = \"png\";var comm_websocket_adapter = function(comm) {\n",
       "    // Create a \"websocket\"-like object which calls the given IPython comm\n",
       "    // object with the appropriate methods. Currently this is a non binary\n",
       "    // socket, so there is still some room for performance tuning.\n",
       "    var ws = {};\n",
       "\n",
       "    ws.close = function() {\n",
       "        comm.close()\n",
       "    };\n",
       "    ws.send = function(m) {\n",
       "        //console.log('sending', m);\n",
       "        comm.send(m);\n",
       "    };\n",
       "    // Register the callback with on_msg.\n",
       "    comm.on_msg(function(msg) {\n",
       "        //console.log('receiving', msg['content']['data'], msg);\n",
       "        // Pass the mpl event to the overridden (by mpl) onmessage function.\n",
       "        ws.onmessage(msg['content']['data'])\n",
       "    });\n",
       "    return ws;\n",
       "}\n",
       "\n",
       "mpl.mpl_figure_comm = function(comm, msg) {\n",
       "    // This is the function which gets called when the mpl process\n",
       "    // starts-up an IPython Comm through the \"matplotlib\" channel.\n",
       "\n",
       "    var id = msg.content.data.id;\n",
       "    // Get hold of the div created by the display call when the Comm\n",
       "    // socket was opened in Python.\n",
       "    var element = $(\"#\" + id);\n",
       "    var ws_proxy = comm_websocket_adapter(comm)\n",
       "\n",
       "    function ondownload(figure, format) {\n",
       "        window.open(figure.imageObj.src);\n",
       "    }\n",
       "\n",
       "    var fig = new mpl.figure(id, ws_proxy,\n",
       "                           ondownload,\n",
       "                           element.get(0));\n",
       "\n",
       "    // Call onopen now - mpl needs it, as it is assuming we've passed it a real\n",
       "    // web socket which is closed, not our websocket->open comm proxy.\n",
       "    ws_proxy.onopen();\n",
       "\n",
       "    fig.parent_element = element.get(0);\n",
       "    fig.cell_info = mpl.find_output_cell(\"<div id='\" + id + \"'></div>\");\n",
       "    if (!fig.cell_info) {\n",
       "        console.error(\"Failed to find cell for figure\", id, fig);\n",
       "        return;\n",
       "    }\n",
       "\n",
       "    var output_index = fig.cell_info[2]\n",
       "    var cell = fig.cell_info[0];\n",
       "\n",
       "};\n",
       "\n",
       "mpl.figure.prototype.handle_close = function(fig, msg) {\n",
       "    var width = fig.canvas.width/mpl.ratio\n",
       "    fig.root.unbind('remove')\n",
       "\n",
       "    // Update the output cell to use the data from the current canvas.\n",
       "    fig.push_to_output();\n",
       "    var dataURL = fig.canvas.toDataURL();\n",
       "    // Re-enable the keyboard manager in IPython - without this line, in FF,\n",
       "    // the notebook keyboard shortcuts fail.\n",
       "    IPython.keyboard_manager.enable()\n",
       "    $(fig.parent_element).html('<img src=\"' + dataURL + '\" width=\"' + width + '\">');\n",
       "    fig.close_ws(fig, msg);\n",
       "}\n",
       "\n",
       "mpl.figure.prototype.close_ws = function(fig, msg){\n",
       "    fig.send_message('closing', msg);\n",
       "    // fig.ws.close()\n",
       "}\n",
       "\n",
       "mpl.figure.prototype.push_to_output = function(remove_interactive) {\n",
       "    // Turn the data on the canvas into data in the output cell.\n",
       "    var width = this.canvas.width/mpl.ratio\n",
       "    var dataURL = this.canvas.toDataURL();\n",
       "    this.cell_info[1]['text/html'] = '<img src=\"' + dataURL + '\" width=\"' + width + '\">';\n",
       "}\n",
       "\n",
       "mpl.figure.prototype.updated_canvas_event = function() {\n",
       "    // Tell IPython that the notebook contents must change.\n",
       "    IPython.notebook.set_dirty(true);\n",
       "    this.send_message(\"ack\", {});\n",
       "    var fig = this;\n",
       "    // Wait a second, then push the new image to the DOM so\n",
       "    // that it is saved nicely (might be nice to debounce this).\n",
       "    setTimeout(function () { fig.push_to_output() }, 1000);\n",
       "}\n",
       "\n",
       "mpl.figure.prototype._init_toolbar = function() {\n",
       "    var fig = this;\n",
       "\n",
       "    var nav_element = $('<div/>')\n",
       "    nav_element.attr('style', 'width: 100%');\n",
       "    this.root.append(nav_element);\n",
       "\n",
       "    // Define a callback function for later on.\n",
       "    function toolbar_event(event) {\n",
       "        return fig.toolbar_button_onclick(event['data']);\n",
       "    }\n",
       "    function toolbar_mouse_event(event) {\n",
       "        return fig.toolbar_button_onmouseover(event['data']);\n",
       "    }\n",
       "\n",
       "    for(var toolbar_ind in mpl.toolbar_items){\n",
       "        var name = mpl.toolbar_items[toolbar_ind][0];\n",
       "        var tooltip = mpl.toolbar_items[toolbar_ind][1];\n",
       "        var image = mpl.toolbar_items[toolbar_ind][2];\n",
       "        var method_name = mpl.toolbar_items[toolbar_ind][3];\n",
       "\n",
       "        if (!name) { continue; };\n",
       "\n",
       "        var button = $('<button class=\"btn btn-default\" href=\"#\" title=\"' + name + '\"><i class=\"fa ' + image + ' fa-lg\"></i></button>');\n",
       "        button.click(method_name, toolbar_event);\n",
       "        button.mouseover(tooltip, toolbar_mouse_event);\n",
       "        nav_element.append(button);\n",
       "    }\n",
       "\n",
       "    // Add the status bar.\n",
       "    var status_bar = $('<span class=\"mpl-message\" style=\"text-align:right; float: right;\"/>');\n",
       "    nav_element.append(status_bar);\n",
       "    this.message = status_bar[0];\n",
       "\n",
       "    // Add the close button to the window.\n",
       "    var buttongrp = $('<div class=\"btn-group inline pull-right\"></div>');\n",
       "    var button = $('<button class=\"btn btn-mini btn-primary\" href=\"#\" title=\"Stop Interaction\"><i class=\"fa fa-power-off icon-remove icon-large\"></i></button>');\n",
       "    button.click(function (evt) { fig.handle_close(fig, {}); } );\n",
       "    button.mouseover('Stop Interaction', toolbar_mouse_event);\n",
       "    buttongrp.append(button);\n",
       "    var titlebar = this.root.find($('.ui-dialog-titlebar'));\n",
       "    titlebar.prepend(buttongrp);\n",
       "}\n",
       "\n",
       "mpl.figure.prototype._root_extra_style = function(el){\n",
       "    var fig = this\n",
       "    el.on(\"remove\", function(){\n",
       "\tfig.close_ws(fig, {});\n",
       "    });\n",
       "}\n",
       "\n",
       "mpl.figure.prototype._canvas_extra_style = function(el){\n",
       "    // this is important to make the div 'focusable\n",
       "    el.attr('tabindex', 0)\n",
       "    // reach out to IPython and tell the keyboard manager to turn it's self\n",
       "    // off when our div gets focus\n",
       "\n",
       "    // location in version 3\n",
       "    if (IPython.notebook.keyboard_manager) {\n",
       "        IPython.notebook.keyboard_manager.register_events(el);\n",
       "    }\n",
       "    else {\n",
       "        // location in version 2\n",
       "        IPython.keyboard_manager.register_events(el);\n",
       "    }\n",
       "\n",
       "}\n",
       "\n",
       "mpl.figure.prototype._key_event_extra = function(event, name) {\n",
       "    var manager = IPython.notebook.keyboard_manager;\n",
       "    if (!manager)\n",
       "        manager = IPython.keyboard_manager;\n",
       "\n",
       "    // Check for shift+enter\n",
       "    if (event.shiftKey && event.which == 13) {\n",
       "        this.canvas_div.blur();\n",
       "        event.shiftKey = false;\n",
       "        // Send a \"J\" for go to next cell\n",
       "        event.which = 74;\n",
       "        event.keyCode = 74;\n",
       "        manager.command_mode();\n",
       "        manager.handle_keydown(event);\n",
       "    }\n",
       "}\n",
       "\n",
       "mpl.figure.prototype.handle_save = function(fig, msg) {\n",
       "    fig.ondownload(fig, null);\n",
       "}\n",
       "\n",
       "\n",
       "mpl.find_output_cell = function(html_output) {\n",
       "    // Return the cell and output element which can be found *uniquely* in the notebook.\n",
       "    // Note - this is a bit hacky, but it is done because the \"notebook_saving.Notebook\"\n",
       "    // IPython event is triggered only after the cells have been serialised, which for\n",
       "    // our purposes (turning an active figure into a static one), is too late.\n",
       "    var cells = IPython.notebook.get_cells();\n",
       "    var ncells = cells.length;\n",
       "    for (var i=0; i<ncells; i++) {\n",
       "        var cell = cells[i];\n",
       "        if (cell.cell_type === 'code'){\n",
       "            for (var j=0; j<cell.output_area.outputs.length; j++) {\n",
       "                var data = cell.output_area.outputs[j];\n",
       "                if (data.data) {\n",
       "                    // IPython >= 3 moved mimebundle to data attribute of output\n",
       "                    data = data.data;\n",
       "                }\n",
       "                if (data['text/html'] == html_output) {\n",
       "                    return [cell, data, j];\n",
       "                }\n",
       "            }\n",
       "        }\n",
       "    }\n",
       "}\n",
       "\n",
       "// Register the function which deals with the matplotlib target/channel.\n",
       "// The kernel may be null if the page has been refreshed.\n",
       "if (IPython.notebook.kernel != null) {\n",
       "    IPython.notebook.kernel.comm_manager.register_target('matplotlib', mpl.mpl_figure_comm);\n",
       "}\n"
      ],
      "text/plain": [
       "<IPython.core.display.Javascript object>"
      ]
     },
     "metadata": {},
     "output_type": "display_data"
    },
    {
     "data": {
      "text/html": [
       "<img src=\"data:image/png;base64,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\" width=\"640\">"
      ],
      "text/plain": [
       "<IPython.core.display.HTML object>"
      ]
     },
     "metadata": {},
     "output_type": "display_data"
    }
   ],
   "source": [
    "# Your code:\n",
    "import matplotlib.pyplot as plt\n",
    "%matplotlib notebook\n",
    "#population_density_categorical_df = pd.read_csv(\"population_density_categorical.csv\")\n",
    "#we can use this if upper steps are not run\n",
    "B=plt.boxplot(population_density[\"temperature\"])\n",
    "whiskers= [item.get_ydata() for item in B['whiskers']]\n",
    "\n",
    "population_density=population_density[np.logical_and(population_density.temperature<whiskers[1][1],population_density.temperature>whiskers[0][1])]\n",
    "B=plt.boxplot(population_density[\"temperature\"])\n",
    "#let's plot a subplot and show that outlier is removed"
   ]
  },
  {
   "cell_type": "markdown",
   "metadata": {},
   "source": [
    "   (b) Compare basic statistical features of \"temperature\" (median, mean, and mode) in the cleaned and original datasets.    Interpret the differences for these statistical values between the cleaned and original datasets. "
   ]
  },
  {
   "cell_type": "code",
   "execution_count": null,
   "metadata": {},
   "outputs": [],
   "source": [
    "# Your code:\n",
    "\n"
   ]
  },
  {
   "cell_type": "markdown",
   "metadata": {},
   "source": [
    "   (c) Compare the number of data rows before and after removing the outliers. How many data rows are removed by removing    outliers?"
   ]
  },
  {
   "cell_type": "code",
   "execution_count": 29,
   "metadata": {},
   "outputs": [
    {
     "data": {
      "text/plain": [
       "(43369, 10)"
      ]
     },
     "execution_count": 29,
     "metadata": {},
     "output_type": "execute_result"
    }
   ],
   "source": [
    "# Your code:\n",
    "\n",
    "\n"
   ]
  },
  {
   "cell_type": "markdown",
   "metadata": {},
   "source": [
    "### Basic Visualization (10 points)\n",
    "   (d) Visualize mean and median of \"population_density\" for non-'None' \"holiday\" values in the original dataset. Specify    the \"holiday\" values for which the mean of \"population_density\" is maximal and for which it is minimal."
   ]
  },
  {
   "cell_type": "code",
   "execution_count": null,
   "metadata": {},
   "outputs": [],
   "source": [
    "# Your code:\n",
    "\n"
   ]
  },
  {
   "cell_type": "markdown",
   "metadata": {},
   "source": [
    "   (e) Plot the distribution of \"temperature\" in the original and cleaned datasets."
   ]
  },
  {
   "cell_type": "code",
   "execution_count": null,
   "metadata": {},
   "outputs": [],
   "source": [
    "# Your code:\n",
    "\n"
   ]
  },
  {
   "cell_type": "markdown",
   "metadata": {},
   "source": [
    "   (f) Explore the distribution of \"population_density\" and \"temperature\" together in the cleaned dataset. Specify the ranges of \"temperature\" and \"population_density\" for which the frequency of the data is the highest."
   ]
  },
  {
   "cell_type": "code",
   "execution_count": null,
   "metadata": {},
   "outputs": [],
   "source": [
    "# Your code:\n",
    "\n"
   ]
  },
  {
   "cell_type": "markdown",
   "metadata": {},
   "source": [
    "## Question 2 - Decision Trees (15 points):"
   ]
  },
  {
   "cell_type": "markdown",
   "metadata": {},
   "source": [
    "   (a) Add a categorical temperature column to the cleaned dataset based on the following rules and name it                \"temperature_categorical\":\n",
    "        - temperature >= upper_quartile (third quartile) corresponding value in 'temperature_categorical' column: 'high'\n",
    "        - temperature <= lower_quartile (first quartile) corresponding value in 'temperature_categorical' column: 'low'\n",
    "        - lower_quartile < temperature < upper_quartile corresponding value in 'temperature_categorical' column: 'medium'"
   ]
  },
  {
   "cell_type": "code",
   "execution_count": null,
   "metadata": {},
   "outputs": [],
   "source": [
    "# Your code:\n",
    "\n"
   ]
  },
  {
   "cell_type": "markdown",
   "metadata": {},
   "source": [
    "   (b) In the new dataset (created in Section 'a'), consider \"holiday\", \"temperature_categorical\", and \"weather_type\" as    the descriptive features and \"population_density_categorical\" as the target feature. Set the minimum number of samples  for splitting to 5000 and make a decision tree based on entropy."
   ]
  },
  {
   "cell_type": "code",
   "execution_count": null,
   "metadata": {},
   "outputs": [],
   "source": [
    "# Your code:\n",
    "\n"
   ]
  },
  {
   "cell_type": "markdown",
   "metadata": {},
   "source": [
    "   (c) What is the best attribute (based on entropy) for splitting the tree in the second round of ID3?  "
   ]
  },
  {
   "cell_type": "markdown",
   "metadata": {},
   "source": [
    "Explanation: \n"
   ]
  },
  {
   "cell_type": "markdown",
   "metadata": {},
   "source": [
    "## Question 3 - Regression (10 points):\n",
    "\n",
    "For this question (Q3), restrict your extracted data set to the columns *holiday, temperature, rain_1h, snow_1h, clouds_percentage, date_time* and *population_density*. Drop the information on the date for *date_time* and restrict the data to time values (hour) only.\n",
    "\n",
    "We define *population_density* to be our target feature, while all other features are considered descriptive."
   ]
  },
  {
   "cell_type": "code",
   "execution_count": null,
   "metadata": {},
   "outputs": [],
   "source": [
    "# Your code:\n",
    "\n"
   ]
  },
  {
   "cell_type": "markdown",
   "metadata": {},
   "source": [
    "   (a) Which features are suitable as an input for linear regression and which need to be modified first? Why?"
   ]
  },
  {
   "cell_type": "markdown",
   "metadata": {},
   "source": [
    "Explanation:\n"
   ]
  },
  {
   "cell_type": "markdown",
   "metadata": {},
   "source": [
    "   (b) Implement and briefly motivate an adequate modification. Print the resulting data set limited to the first two data rows."
   ]
  },
  {
   "cell_type": "markdown",
   "metadata": {},
   "source": [
    "Explanation:\n"
   ]
  },
  {
   "cell_type": "code",
   "execution_count": null,
   "metadata": {},
   "outputs": [],
   "source": [
    "# Your code:\n",
    "\n"
   ]
  },
  {
   "cell_type": "markdown",
   "metadata": {},
   "source": [
    "(c) To get a first idea about our data, plot the behaviour of the target feature (population_density) over time (date_time)."
   ]
  },
  {
   "cell_type": "code",
   "execution_count": null,
   "metadata": {},
   "outputs": [],
   "source": [
    "# Your code:\n",
    "\n"
   ]
  },
  {
   "cell_type": "markdown",
   "metadata": {},
   "source": [
    "   (d) Create two distinct subsets of the data. Use sampling methods as described in the lecture. You should end up with two DIFFERENT sample data sets *RegA, RegB*. Include these data sets in the submitted data set zip file. \n",
    "   \n",
    "   Which sampling methods did you choose and why? Which one do you expect to result in a better classifier?"
   ]
  },
  {
   "cell_type": "code",
   "execution_count": null,
   "metadata": {},
   "outputs": [],
   "source": [
    "# Your code:\n",
    "\n"
   ]
  },
  {
   "cell_type": "markdown",
   "metadata": {},
   "source": [
    "Explanation:\n"
   ]
  },
  {
   "cell_type": "markdown",
   "metadata": {},
   "source": [
    "   (e) Train a linear regression classifier based on each of the two sample data sets *RegA, RegB* created before."
   ]
  },
  {
   "cell_type": "code",
   "execution_count": null,
   "metadata": {},
   "outputs": [],
   "source": [
    "# Your code:\n",
    "\n"
   ]
  },
  {
   "cell_type": "markdown",
   "metadata": {},
   "source": [
    "(f) Visualize both computed regression functions in one plot each, combined with the original data set. For example, you can show a plot similar to 3(c) and insert the regression functions result."
   ]
  },
  {
   "cell_type": "code",
   "execution_count": null,
   "metadata": {},
   "outputs": [],
   "source": [
    "# Your code:\n",
    "\n"
   ]
  },
  {
   "cell_type": "markdown",
   "metadata": {},
   "source": [
    "   (g) For each of the two resulting models compute and print the mean squared error, mean absolute error and median squared error with respect to the original, non-sampled data set. Also, present plots showing the errors and squared errors."
   ]
  },
  {
   "cell_type": "code",
   "execution_count": null,
   "metadata": {},
   "outputs": [],
   "source": [
    "# Your code:\n",
    "\n"
   ]
  },
  {
   "cell_type": "markdown",
   "metadata": {},
   "source": [
    "   (h) Interpret and evaluate the two models and compare them. Why are they similar/different? Which model do you recommend and why? How do you think the applied methods could be improved to get better results?"
   ]
  },
  {
   "cell_type": "markdown",
   "metadata": {},
   "source": [
    "Explanation:\n"
   ]
  },
  {
   "cell_type": "markdown",
   "metadata": {},
   "source": [
    "## Question 4 - Support Vector Machines (10 points):\n",
    "\n",
    "For this question (Q4), restrict your extracted data set to the columns *holiday, temperature, rain_1h, snow_1h, clouds_percentage, date_time* and *population_density_categorical*. For *date_time*, drop the information on the date and restrict the data to time values only.\n",
    "We define *population_density_categorical* to be our target feature, while all other features are considered descriptive.\n"
   ]
  },
  {
   "cell_type": "code",
   "execution_count": null,
   "metadata": {},
   "outputs": [],
   "source": [
    "# Your code:\n",
    "\n"
   ]
  },
  {
   "cell_type": "markdown",
   "metadata": {},
   "source": [
    "   (a) Which features are suitable as an input for SVM and which need to be modified first? Modify the data as needed and provide a brief explanation."
   ]
  },
  {
   "cell_type": "code",
   "execution_count": null,
   "metadata": {},
   "outputs": [],
   "source": [
    "# Your code:\n",
    "\n"
   ]
  },
  {
   "cell_type": "markdown",
   "metadata": {},
   "source": [
    "Explanation:\n"
   ]
  },
  {
   "cell_type": "markdown",
   "metadata": {},
   "source": [
    "   (b) Divide the data set into a training set *svmTrain* and a test set *svmTest* and briefly motivate your division      strategy. Include these data sets in the data set zip file you submit. \n",
    "   \n",
    "   Hint: Training the SVMs will take longer for a large training set!"
   ]
  },
  {
   "cell_type": "code",
   "execution_count": null,
   "metadata": {},
   "outputs": [],
   "source": [
    "# Your code:\n",
    "\n"
   ]
  },
  {
   "cell_type": "markdown",
   "metadata": {},
   "source": [
    "Explanation:\n"
   ]
  },
  {
   "cell_type": "markdown",
   "metadata": {},
   "source": [
    "   (c) Use the training set to train 3 different SVMs with different combinations of the parameters. Use at least two distinct values for the parameters *kernel* and *C*."
   ]
  },
  {
   "cell_type": "code",
   "execution_count": null,
   "metadata": {},
   "outputs": [],
   "source": [
    "# Your code:\n",
    "\n"
   ]
  },
  {
   "cell_type": "markdown",
   "metadata": {},
   "source": [
    "   (d) Compute and print the mean accurracy and classification report of the trained SVMs with respect to the test set (as shown in instruction)."
   ]
  },
  {
   "cell_type": "code",
   "execution_count": null,
   "metadata": {},
   "outputs": [],
   "source": [
    "# Your code:\n",
    "\n"
   ]
  },
  {
   "cell_type": "markdown",
   "metadata": {},
   "source": [
    "   (e) Interpret and evaluate the 3 SVMs and compare them. Why are they similar/different? Which SVM do you recommend and why?"
   ]
  },
  {
   "cell_type": "markdown",
   "metadata": {},
   "source": [
    "Explanation:\n"
   ]
  },
  {
   "cell_type": "markdown",
   "metadata": {},
   "source": [
    "## Question 5 - Neural Networks (20 points)\n",
    "In this question consider the whole dataset that you have created in the *Preprocessing of Dataset* section. The target feature is *population_density_categorical*. \n",
    "\n",
    "To avoid performance problems, use the first 4000 rows of your dataset (you will need 2000 for training and 2000 for testing)."
   ]
  },
  {
   "cell_type": "markdown",
   "metadata": {},
   "source": [
    "   (a) What are the possible inputs of your network?\n",
    "     - Show the possible extracted features.\n",
    "     - Show the number of possible patterns of inputs for the categorical data."
   ]
  },
  {
   "cell_type": "code",
   "execution_count": null,
   "metadata": {},
   "outputs": [],
   "source": [
    "# Your code:\n",
    "\n"
   ]
  },
  {
   "cell_type": "markdown",
   "metadata": {},
   "source": [
    "Explanation:\n"
   ]
  },
  {
   "cell_type": "markdown",
   "metadata": {},
   "source": [
    "   (b) Before using the Neural Network algorithm, do you think it provides an accurate result? Why? \n",
    "     - Your explanation should be supported by data."
   ]
  },
  {
   "cell_type": "markdown",
   "metadata": {},
   "source": [
    "Explanation:\n"
   ]
  },
  {
   "cell_type": "code",
   "execution_count": null,
   "metadata": {},
   "outputs": [],
   "source": [
    "# Your code:\n",
    "\n"
   ]
  },
  {
   "cell_type": "markdown",
   "metadata": {},
   "source": [
    "   (c) Which features can be used for designing your network as inputs? Why?\n",
    "       - Which features should be changed (example: from categorical to numerical or numerical to categorical)? Why? \n",
    "       - Convert the features. "
   ]
  },
  {
   "cell_type": "markdown",
   "metadata": {},
   "source": [
    "Explanation:\n"
   ]
  },
  {
   "cell_type": "code",
   "execution_count": null,
   "metadata": {},
   "outputs": [],
   "source": [
    "# Your code:\n",
    "\n"
   ]
  },
  {
   "cell_type": "markdown",
   "metadata": {},
   "source": [
    "   (d) Train your network with default hyperparameters and return the parameters."
   ]
  },
  {
   "cell_type": "code",
   "execution_count": null,
   "metadata": {},
   "outputs": [],
   "source": [
    "# Your code:\n",
    "\n"
   ]
  },
  {
   "cell_type": "markdown",
   "metadata": {},
   "source": [
    "   (e) Try to find an optimized number of hidden layers and nodes. \n",
    "      - Start with default numbers and then at least go with one number above and one number below the default.\n",
    "      - Use the 2000 rows of the data for training.\n",
    "      - What are the optimized numbers of hidden layers and nodes that you have found?"
   ]
  },
  {
   "cell_type": "code",
   "execution_count": null,
   "metadata": {},
   "outputs": [],
   "source": [
    "# Your code: (number of hidden layers)\n",
    "\n"
   ]
  },
  {
   "cell_type": "code",
   "execution_count": null,
   "metadata": {},
   "outputs": [],
   "source": [
    "# Your code: (number of nodes in the hidden layer)\n",
    "\n"
   ]
  },
  {
   "cell_type": "code",
   "execution_count": null,
   "metadata": {},
   "outputs": [],
   "source": [
    "# Your code: (optimized network) \n",
    "\n"
   ]
  },
  {
   "cell_type": "markdown",
   "metadata": {},
   "source": [
    "Explanation:\n"
   ]
  },
  {
   "cell_type": "markdown",
   "metadata": {},
   "source": [
    "   (f) Try to train your model with one linear activation function and one non-linear activation function. Use the default number of hidden layers and nodes.\n",
    "     - Name the functions and explain how the results are different and why. \n",
    "     - You can use evaluation metrics to show which activation function works better for this data set.\n",
    "     - Use the 2000 rows of the data for training."
   ]
  },
  {
   "cell_type": "code",
   "execution_count": null,
   "metadata": {},
   "outputs": [],
   "source": [
    "# Your code: (linear activation function):\n",
    "\n"
   ]
  },
  {
   "cell_type": "code",
   "execution_count": null,
   "metadata": {},
   "outputs": [],
   "source": [
    "# Your code: (non-linear activation function):\n",
    "\n"
   ]
  },
  {
   "cell_type": "markdown",
   "metadata": {},
   "source": [
    "Explanation:\n"
   ]
  },
  {
   "cell_type": "markdown",
   "metadata": {},
   "source": [
    "## Question 6 - Evaluation (10 Points)"
   ]
  },
  {
   "cell_type": "markdown",
   "metadata": {},
   "source": [
    "   (a) Consider one of the models in question 4 (c) of your choice, one neural network with optimized number of hidden layers and nodes from question 5 (e), and the neural network with non-linear activation function from question 5 (f), for a total of *three* models, together with their respective datasets. Compute the following metrics for a 3-fold cross validation performed on each model:"
   ]
  },
  {
   "cell_type": "markdown",
   "metadata": {},
   "source": [
    "- Confusion matrices on the training data (sum cell-by-cell the results of each fold)"
   ]
  },
  {
   "cell_type": "code",
   "execution_count": null,
   "metadata": {},
   "outputs": [],
   "source": [
    "# Your code for the confusion matrices on the training data\n",
    "\n"
   ]
  },
  {
   "cell_type": "markdown",
   "metadata": {},
   "source": [
    "- Confusion matrices on the test data (sum cell-by-cell the results of each fold)"
   ]
  },
  {
   "cell_type": "code",
   "execution_count": null,
   "metadata": {},
   "outputs": [],
   "source": [
    "# Your code for the confusion matrices on the test data\n",
    "\n"
   ]
  },
  {
   "cell_type": "markdown",
   "metadata": {},
   "source": [
    "- Precision, recall and F1-scores on the test data (give explicitly the result for each fold)"
   ]
  },
  {
   "cell_type": "code",
   "execution_count": null,
   "metadata": {},
   "outputs": [],
   "source": [
    "# Your code for precision, recall and F1-scores on the test data\n",
    "\n"
   ]
  },
  {
   "cell_type": "markdown",
   "metadata": {},
   "source": [
    "- Accuracy scores on training and test data (give explicitly the result for each fold)"
   ]
  },
  {
   "cell_type": "code",
   "execution_count": null,
   "metadata": {},
   "outputs": [],
   "source": [
    "# Your code for accuracy scores on training and test data\n",
    "\n"
   ]
  },
  {
   "cell_type": "markdown",
   "metadata": {},
   "source": [
    "In order to turn numbers into insights, please comment on your findings. Motivate the answers to the following questions using the metrics and the findings in the questions 1 through 5 of the assignment."
   ]
  },
  {
   "cell_type": "markdown",
   "metadata": {},
   "source": [
    "   (b) What is, in your opinion, the best model? Motivate your answer with the correct performance metrics."
   ]
  },
  {
   "cell_type": "markdown",
   "metadata": {},
   "source": [
    "Explanation:\n"
   ]
  },
  {
   "cell_type": "markdown",
   "metadata": {},
   "source": [
    "   (c) Does any model suffer from underfitting or overfitting? Motivate your answer with the correct performance metrics."
   ]
  },
  {
   "cell_type": "markdown",
   "metadata": {},
   "source": [
    "Explanation:\n"
   ]
  },
  {
   "cell_type": "markdown",
   "metadata": {},
   "source": [
    "   (d) What is the effect of employing cross validation, instead of simply holding our a certain percentage of examples as test/validation set? What are the advantages and disadvantages of cross validation?"
   ]
  },
  {
   "cell_type": "markdown",
   "metadata": {},
   "source": [
    "Explanation:\n"
   ]
  }
 ],
 "metadata": {
  "kernelspec": {
   "display_name": "Python 3",
   "language": "python",
   "name": "python3"
  },
  "language_info": {
   "codemirror_mode": {
    "name": "ipython",
    "version": 3
   },
   "file_extension": ".py",
   "mimetype": "text/x-python",
   "name": "python",
   "nbconvert_exporter": "python",
   "pygments_lexer": "ipython3",
   "version": "3.7.1"
  }
 },
 "nbformat": 4,
 "nbformat_minor": 2
}
