{
 "cells": [
  {
   "cell_type": "code",
   "execution_count": 2,
   "metadata": {},
   "outputs": [],
   "source": [
    "import pandas as pd"
   ]
  },
  {
   "cell_type": "code",
   "execution_count": 61,
   "metadata": {},
   "outputs": [],
   "source": [
    "df = pd.read_csv(r\"googleplaystore.csv\")"
   ]
  },
  {
   "cell_type": "code",
   "execution_count": 62,
   "metadata": {},
   "outputs": [
    {
     "data": {
      "text/html": [
       "<div>\n",
       "<style scoped>\n",
       "    .dataframe tbody tr th:only-of-type {\n",
       "        vertical-align: middle;\n",
       "    }\n",
       "\n",
       "    .dataframe tbody tr th {\n",
       "        vertical-align: top;\n",
       "    }\n",
       "\n",
       "    .dataframe thead th {\n",
       "        text-align: right;\n",
       "    }\n",
       "</style>\n",
       "<table border=\"1\" class=\"dataframe\">\n",
       "  <thead>\n",
       "    <tr style=\"text-align: right;\">\n",
       "      <th></th>\n",
       "      <th>App</th>\n",
       "      <th>Category</th>\n",
       "      <th>Rating</th>\n",
       "      <th>Reviews</th>\n",
       "      <th>Size</th>\n",
       "      <th>Installs</th>\n",
       "      <th>Type</th>\n",
       "      <th>Price</th>\n",
       "      <th>Content Rating</th>\n",
       "      <th>Genres</th>\n",
       "      <th>Last Updated</th>\n",
       "      <th>Current Ver</th>\n",
       "      <th>Android Ver</th>\n",
       "    </tr>\n",
       "  </thead>\n",
       "  <tbody>\n",
       "    <tr>\n",
       "      <th>0</th>\n",
       "      <td>Photo Editor &amp; Candy Camera &amp; Grid &amp; ScrapBook</td>\n",
       "      <td>ART_AND_DESIGN</td>\n",
       "      <td>4.1</td>\n",
       "      <td>159</td>\n",
       "      <td>19M</td>\n",
       "      <td>10,000+</td>\n",
       "      <td>Free</td>\n",
       "      <td>0</td>\n",
       "      <td>Everyone</td>\n",
       "      <td>Art &amp; Design</td>\n",
       "      <td>January 7, 2018</td>\n",
       "      <td>1.0.0</td>\n",
       "      <td>4.0.3 and up</td>\n",
       "    </tr>\n",
       "    <tr>\n",
       "      <th>1</th>\n",
       "      <td>Coloring book moana</td>\n",
       "      <td>ART_AND_DESIGN</td>\n",
       "      <td>3.9</td>\n",
       "      <td>967</td>\n",
       "      <td>14M</td>\n",
       "      <td>500,000+</td>\n",
       "      <td>Free</td>\n",
       "      <td>0</td>\n",
       "      <td>Everyone</td>\n",
       "      <td>Art &amp; Design;Pretend Play</td>\n",
       "      <td>January 15, 2018</td>\n",
       "      <td>2.0.0</td>\n",
       "      <td>4.0.3 and up</td>\n",
       "    </tr>\n",
       "    <tr>\n",
       "      <th>2</th>\n",
       "      <td>U Launcher Lite – FREE Live Cool Themes, Hide ...</td>\n",
       "      <td>ART_AND_DESIGN</td>\n",
       "      <td>4.7</td>\n",
       "      <td>87510</td>\n",
       "      <td>8.7M</td>\n",
       "      <td>5,000,000+</td>\n",
       "      <td>Free</td>\n",
       "      <td>0</td>\n",
       "      <td>Everyone</td>\n",
       "      <td>Art &amp; Design</td>\n",
       "      <td>August 1, 2018</td>\n",
       "      <td>1.2.4</td>\n",
       "      <td>4.0.3 and up</td>\n",
       "    </tr>\n",
       "    <tr>\n",
       "      <th>3</th>\n",
       "      <td>Sketch - Draw &amp; Paint</td>\n",
       "      <td>ART_AND_DESIGN</td>\n",
       "      <td>4.5</td>\n",
       "      <td>215644</td>\n",
       "      <td>25M</td>\n",
       "      <td>50,000,000+</td>\n",
       "      <td>Free</td>\n",
       "      <td>0</td>\n",
       "      <td>Teen</td>\n",
       "      <td>Art &amp; Design</td>\n",
       "      <td>June 8, 2018</td>\n",
       "      <td>Varies with device</td>\n",
       "      <td>4.2 and up</td>\n",
       "    </tr>\n",
       "    <tr>\n",
       "      <th>4</th>\n",
       "      <td>Pixel Draw - Number Art Coloring Book</td>\n",
       "      <td>ART_AND_DESIGN</td>\n",
       "      <td>4.3</td>\n",
       "      <td>967</td>\n",
       "      <td>2.8M</td>\n",
       "      <td>100,000+</td>\n",
       "      <td>Free</td>\n",
       "      <td>0</td>\n",
       "      <td>Everyone</td>\n",
       "      <td>Art &amp; Design;Creativity</td>\n",
       "      <td>June 20, 2018</td>\n",
       "      <td>1.1</td>\n",
       "      <td>4.4 and up</td>\n",
       "    </tr>\n",
       "  </tbody>\n",
       "</table>\n",
       "</div>"
      ],
      "text/plain": [
       "                                                 App        Category  Rating  \\\n",
       "0     Photo Editor & Candy Camera & Grid & ScrapBook  ART_AND_DESIGN     4.1   \n",
       "1                                Coloring book moana  ART_AND_DESIGN     3.9   \n",
       "2  U Launcher Lite – FREE Live Cool Themes, Hide ...  ART_AND_DESIGN     4.7   \n",
       "3                              Sketch - Draw & Paint  ART_AND_DESIGN     4.5   \n",
       "4              Pixel Draw - Number Art Coloring Book  ART_AND_DESIGN     4.3   \n",
       "\n",
       "  Reviews  Size     Installs  Type Price Content Rating  \\\n",
       "0     159   19M      10,000+  Free     0       Everyone   \n",
       "1     967   14M     500,000+  Free     0       Everyone   \n",
       "2   87510  8.7M   5,000,000+  Free     0       Everyone   \n",
       "3  215644   25M  50,000,000+  Free     0           Teen   \n",
       "4     967  2.8M     100,000+  Free     0       Everyone   \n",
       "\n",
       "                      Genres      Last Updated         Current Ver  \\\n",
       "0               Art & Design   January 7, 2018               1.0.0   \n",
       "1  Art & Design;Pretend Play  January 15, 2018               2.0.0   \n",
       "2               Art & Design    August 1, 2018               1.2.4   \n",
       "3               Art & Design      June 8, 2018  Varies with device   \n",
       "4    Art & Design;Creativity     June 20, 2018                 1.1   \n",
       "\n",
       "    Android Ver  \n",
       "0  4.0.3 and up  \n",
       "1  4.0.3 and up  \n",
       "2  4.0.3 and up  \n",
       "3    4.2 and up  \n",
       "4    4.4 and up  "
      ]
     },
     "execution_count": 62,
     "metadata": {},
     "output_type": "execute_result"
    }
   ],
   "source": [
    "df.head()"
   ]
  },
  {
   "cell_type": "code",
   "execution_count": 127,
   "metadata": {},
   "outputs": [],
   "source": [
    "df.rename(columns={'Content Rating':'ContentRating'},inplace=True)"
   ]
  },
  {
   "cell_type": "code",
   "execution_count": 128,
   "metadata": {},
   "outputs": [
    {
     "data": {
      "text/plain": [
       "App                 0\n",
       "Category            0\n",
       "Rating              0\n",
       "Reviews             0\n",
       "Size             2006\n",
       "Installs            0\n",
       "Type                0\n",
       "Price               0\n",
       "ContentRating       0\n",
       "Genres              0\n",
       "Last Updated        0\n",
       "Current Ver         0\n",
       "Android Ver         0\n",
       "dtype: int64"
      ]
     },
     "execution_count": 128,
     "metadata": {},
     "output_type": "execute_result"
    }
   ],
   "source": [
    "df.isnull().sum() #to get the sum of null values"
   ]
  },
  {
   "cell_type": "code",
   "execution_count": 64,
   "metadata": {},
   "outputs": [
    {
     "data": {
      "text/plain": [
       "(10841, 13)"
      ]
     },
     "execution_count": 64,
     "metadata": {},
     "output_type": "execute_result"
    }
   ],
   "source": [
    "df.shape"
   ]
  },
  {
   "cell_type": "code",
   "execution_count": 65,
   "metadata": {},
   "outputs": [
    {
     "data": {
      "text/html": [
       "<div>\n",
       "<style scoped>\n",
       "    .dataframe tbody tr th:only-of-type {\n",
       "        vertical-align: middle;\n",
       "    }\n",
       "\n",
       "    .dataframe tbody tr th {\n",
       "        vertical-align: top;\n",
       "    }\n",
       "\n",
       "    .dataframe thead th {\n",
       "        text-align: right;\n",
       "    }\n",
       "</style>\n",
       "<table border=\"1\" class=\"dataframe\">\n",
       "  <thead>\n",
       "    <tr style=\"text-align: right;\">\n",
       "      <th></th>\n",
       "      <th>Rating</th>\n",
       "    </tr>\n",
       "  </thead>\n",
       "  <tbody>\n",
       "    <tr>\n",
       "      <th>count</th>\n",
       "      <td>9367.000000</td>\n",
       "    </tr>\n",
       "    <tr>\n",
       "      <th>mean</th>\n",
       "      <td>4.193338</td>\n",
       "    </tr>\n",
       "    <tr>\n",
       "      <th>std</th>\n",
       "      <td>0.537431</td>\n",
       "    </tr>\n",
       "    <tr>\n",
       "      <th>min</th>\n",
       "      <td>1.000000</td>\n",
       "    </tr>\n",
       "    <tr>\n",
       "      <th>25%</th>\n",
       "      <td>4.000000</td>\n",
       "    </tr>\n",
       "    <tr>\n",
       "      <th>50%</th>\n",
       "      <td>4.300000</td>\n",
       "    </tr>\n",
       "    <tr>\n",
       "      <th>75%</th>\n",
       "      <td>4.500000</td>\n",
       "    </tr>\n",
       "    <tr>\n",
       "      <th>max</th>\n",
       "      <td>19.000000</td>\n",
       "    </tr>\n",
       "  </tbody>\n",
       "</table>\n",
       "</div>"
      ],
      "text/plain": [
       "            Rating\n",
       "count  9367.000000\n",
       "mean      4.193338\n",
       "std       0.537431\n",
       "min       1.000000\n",
       "25%       4.000000\n",
       "50%       4.300000\n",
       "75%       4.500000\n",
       "max      19.000000"
      ]
     },
     "execution_count": 65,
     "metadata": {},
     "output_type": "execute_result"
    }
   ],
   "source": [
    "df.describe() # all other columns accept \"Rating\" are non-numeric"
   ]
  },
  {
   "cell_type": "code",
   "execution_count": 66,
   "metadata": {},
   "outputs": [
    {
     "name": "stderr",
     "output_type": "stream",
     "text": [
      "c:\\users\\hp\\appdata\\local\\programs\\python\\python37\\lib\\site-packages\\matplotlib\\__init__.py:886: MatplotlibDeprecationWarning: \n",
      "examples.directory is deprecated; in the future, examples will be found relative to the 'datapath' directory.\n",
      "  \"found relative to the 'datapath' directory.\".format(key))\n"
     ]
    },
    {
     "data": {
      "image/png": "[encoded data removed]",
      "text/plain": [
       "<Figure size 432x288 with 1 Axes>"
      ]
     },
     "metadata": {
      "needs_background": "light"
     },
     "output_type": "display_data"
    }
   ],
   "source": [
    "%matplotlib inline\n",
    "import matplotlib.pyplot as plt\n",
    "import numpy as np\n",
    "\n",
    "B =df.boxplot() #for outlier detection\n",
    "\n",
    "#since we know that the rating in play store are always <=5, we can drop ratings with value higer than that\n",
    "\n",
    "index_higher_rating = np.where(df['Rating']>5)"
   ]
  },
  {
   "cell_type": "code",
   "execution_count": 67,
   "metadata": {},
   "outputs": [],
   "source": [
    "df.drop(df.index[(index_higher_rating)],inplace=True)"
   ]
  },
  {
   "cell_type": "code",
   "execution_count": 68,
   "metadata": {},
   "outputs": [
    {
     "data": {
      "text/plain": [
       "<matplotlib.axes._subplots.AxesSubplot at 0x1b3a876c438>"
      ]
     },
     "execution_count": 68,
     "metadata": {},
     "output_type": "execute_result"
    },
    {
     "data": {
      "image/png": "[encoded data removed]",
      "text/plain": [
       "<Figure size 432x288 with 1 Axes>"
      ]
     },
     "metadata": {
      "needs_background": "light"
     },
     "output_type": "display_data"
    }
   ],
   "source": [
    "df.boxplot()"
   ]
  },
  {
   "cell_type": "code",
   "execution_count": 69,
   "metadata": {},
   "outputs": [
    {
     "data": {
      "text/plain": [
       "array([[<matplotlib.axes._subplots.AxesSubplot object at 0x000001B3A8A52F28>]],\n",
       "      dtype=object)"
      ]
     },
     "execution_count": 69,
     "metadata": {},
     "output_type": "execute_result"
    },
    {
     "data": {
      "image/png": "[encoded data removed]",
      "text/plain": [
       "<Figure size 432x288 with 1 Axes>"
      ]
     },
     "metadata": {
      "needs_background": "light"
     },
     "output_type": "display_data"
    }
   ],
   "source": [
    "df.hist()"
   ]
  },
  {
   "cell_type": "markdown",
   "metadata": {},
   "source": [
    "Since the data is skewed , it would be better to fill the missing \"Rating\" values with median of the data"
   ]
  },
  {
   "cell_type": "code",
   "execution_count": 70,
   "metadata": {},
   "outputs": [],
   "source": [
    "df.Rating = df.Rating.fillna(df.Rating.median())"
   ]
  },
  {
   "cell_type": "code",
   "execution_count": 71,
   "metadata": {},
   "outputs": [
    {
     "data": {
      "text/plain": [
       "App               0\n",
       "Category          0\n",
       "Rating            0\n",
       "Reviews           0\n",
       "Size              0\n",
       "Installs          0\n",
       "Type              1\n",
       "Price             0\n",
       "Content Rating    0\n",
       "Genres            0\n",
       "Last Updated      0\n",
       "Current Ver       8\n",
       "Android Ver       2\n",
       "dtype: int64"
      ]
     },
     "execution_count": 71,
     "metadata": {},
     "output_type": "execute_result"
    }
   ],
   "source": [
    "df.isnull().sum()"
   ]
  },
  {
   "cell_type": "code",
   "execution_count": 72,
   "metadata": {},
   "outputs": [],
   "source": [
    "#now we can drop other missing values because it won't make much difference to data\n",
    "df.dropna(inplace=True)"
   ]
  },
  {
   "cell_type": "code",
   "execution_count": 73,
   "metadata": {},
   "outputs": [
    {
     "data": {
      "text/plain": [
       "App               0\n",
       "Category          0\n",
       "Rating            0\n",
       "Reviews           0\n",
       "Size              0\n",
       "Installs          0\n",
       "Type              0\n",
       "Price             0\n",
       "Content Rating    0\n",
       "Genres            0\n",
       "Last Updated      0\n",
       "Current Ver       0\n",
       "Android Ver       0\n",
       "dtype: int64"
      ]
     },
     "execution_count": 73,
     "metadata": {},
     "output_type": "execute_result"
    }
   ],
   "source": [
    "df.isnull().sum()"
   ]
  },
  {
   "cell_type": "code",
   "execution_count": 74,
   "metadata": {},
   "outputs": [],
   "source": [
    "df.Reviews = df.Reviews.apply(lambda x: int(x))"
   ]
  },
  {
   "cell_type": "code",
   "execution_count": 75,
   "metadata": {},
   "outputs": [
    {
     "data": {
      "text/plain": [
       "array([   159,    967,  87510, ...,    603,   1195, 398307], dtype=int64)"
      ]
     },
     "execution_count": 75,
     "metadata": {},
     "output_type": "execute_result"
    }
   ],
   "source": [
    "df.Reviews.unique()"
   ]
  },
  {
   "cell_type": "code",
   "execution_count": 76,
   "metadata": {},
   "outputs": [
    {
     "data": {
      "text/plain": [
       "array(['10,000+', '500,000+', '5,000,000+', '50,000,000+', '100,000+',\n",
       "       '50,000+', '1,000,000+', '10,000,000+', '5,000+', '100,000,000+',\n",
       "       '1,000,000,000+', '1,000+', '500,000,000+', '50+', '100+', '500+',\n",
       "       '10+', '1+', '5+', '0+'], dtype=object)"
      ]
     },
     "execution_count": 76,
     "metadata": {},
     "output_type": "execute_result"
    }
   ],
   "source": [
    "df.Installs.unique()"
   ]
  },
  {
   "cell_type": "code",
   "execution_count": 77,
   "metadata": {},
   "outputs": [],
   "source": [
    "df.Installs = df.Installs.apply(lambda x:x.replace('+',\"\") if \"+\" in x else str(x))"
   ]
  },
  {
   "cell_type": "code",
   "execution_count": 78,
   "metadata": {},
   "outputs": [],
   "source": [
    "df.Installs = df.Installs.apply(lambda x:x.replace(\",\",\"\") if \",\" in x else str(x))\n",
    "df.Installs = df.Installs.apply(lambda x:int(x))"
   ]
  },
  {
   "cell_type": "code",
   "execution_count": 79,
   "metadata": {},
   "outputs": [],
   "source": [
    "df.Price=df.Price.apply(lambda x:x.replace('$',\"\") if \"$\" in x else str(x))\n",
    "df.Price = df.Price.apply(lambda x: float(x))"
   ]
  },
  {
   "cell_type": "code",
   "execution_count": 113,
   "metadata": {},
   "outputs": [],
   "source": [
    "import re\n",
    "def Change(x):\n",
    "    if re.findall(\"M\",x):\n",
    "        return float(x.split('M')[0])*1000000\n",
    "    elif re.findall(\"K\",x):\n",
    "        return float(x.split('K')[0])*1000\n",
    "    \n",
    "    \n",
    "    \n",
    "\n"
   ]
  },
  {
   "cell_type": "code",
   "execution_count": 114,
   "metadata": {},
   "outputs": [],
   "source": [
    "df.Size =df.Size.apply(lambda x:Change(x))"
   ]
  },
  {
   "cell_type": "code",
   "execution_count": 115,
   "metadata": {},
   "outputs": [
    {
     "data": {
      "text/plain": [
       "array([1.9e+07, 1.4e+07, 8.7e+06, 2.5e+07, 2.8e+06, 5.6e+06, 2.9e+07,\n",
       "       3.3e+07, 3.1e+06, 2.8e+07, 1.2e+07, 2.0e+07, 2.1e+07, 3.7e+07,\n",
       "       5.5e+06, 1.7e+07, 3.9e+07, 3.1e+07, 4.2e+06, 7.0e+06, 2.3e+07,\n",
       "       6.0e+06, 6.1e+06, 4.6e+06, 9.2e+06, 5.2e+06, 1.1e+07, 2.4e+07,\n",
       "           nan, 9.4e+06, 1.5e+07, 1.0e+07, 1.2e+06, 2.6e+07, 8.0e+06,\n",
       "       7.9e+06, 5.6e+07, 5.7e+07, 3.5e+07, 5.4e+07, 3.6e+06, 5.7e+06,\n",
       "       8.6e+06, 2.4e+06, 2.7e+07, 2.7e+06, 2.5e+06, 1.6e+07, 3.4e+06,\n",
       "       8.9e+06, 3.9e+06, 2.9e+06, 3.8e+07, 3.2e+07, 5.4e+06, 1.8e+07,\n",
       "       1.1e+06, 2.2e+06, 4.5e+06, 9.8e+06, 5.2e+07, 9.0e+06, 6.7e+06,\n",
       "       3.0e+07, 2.6e+06, 7.1e+06, 3.7e+06, 2.2e+07, 7.4e+06, 6.4e+06,\n",
       "       3.2e+06, 8.2e+06, 9.9e+06, 4.9e+06, 9.5e+06, 5.0e+06, 5.9e+06,\n",
       "       1.3e+07, 7.3e+07, 6.8e+06, 3.5e+06, 4.0e+06, 2.3e+06, 7.2e+06,\n",
       "       2.1e+06, 4.2e+07, 7.3e+06, 9.1e+06, 5.5e+07, 6.5e+06, 1.5e+06,\n",
       "       7.5e+06, 5.1e+07, 4.1e+07, 4.8e+07, 8.5e+06, 4.6e+07, 8.3e+06,\n",
       "       4.3e+06, 4.7e+06, 3.3e+06, 4.0e+07, 7.8e+06, 8.8e+06, 6.6e+06,\n",
       "       5.1e+06, 6.1e+07, 6.6e+07, 8.4e+06, 4.4e+07, 1.6e+06, 6.2e+06,\n",
       "       5.3e+07, 1.4e+06, 3.0e+06, 5.8e+06, 3.8e+06, 9.6e+06, 4.5e+07,\n",
       "       6.3e+07, 4.9e+07, 7.7e+07, 4.4e+06, 4.8e+06, 7.0e+07, 6.9e+06,\n",
       "       9.3e+06, 8.1e+06, 3.6e+07, 8.4e+07, 9.7e+07, 2.0e+06, 1.9e+06,\n",
       "       1.8e+06, 5.3e+06, 4.7e+07, 7.6e+07, 7.6e+06, 5.9e+07, 9.7e+06,\n",
       "       7.8e+07, 7.2e+07, 4.3e+07, 7.7e+06, 6.3e+06, 3.4e+07, 9.3e+07,\n",
       "       6.5e+07, 7.9e+07, 1.0e+08, 5.8e+07, 5.0e+07, 6.8e+07, 6.4e+07,\n",
       "       6.7e+07, 6.0e+07, 9.4e+07, 9.9e+07, 9.5e+07, 8.0e+07, 1.7e+06,\n",
       "       7.4e+07, 6.2e+07, 6.9e+07, 7.5e+07, 9.8e+07, 8.5e+07, 8.2e+07,\n",
       "       9.6e+07, 8.7e+07, 7.1e+07, 8.6e+07, 9.1e+07, 8.1e+07, 9.2e+07,\n",
       "       8.3e+07, 8.8e+07, 1.3e+06, 4.1e+06, 8.9e+07, 9.0e+07, 1.0e+06])"
      ]
     },
     "execution_count": 115,
     "metadata": {},
     "output_type": "execute_result"
    }
   ],
   "source": [
    "df.Size.unique()"
   ]
  },
  {
   "cell_type": "markdown",
   "metadata": {},
   "source": [
    "Now \"Price\", \"Installs\", \"Size\", \"Reviews\" are all converted to Numerical Type\n",
    "Let's plot a correlation matrix to see how they depend on each other"
   ]
  },
  {
   "cell_type": "code",
   "execution_count": 116,
   "metadata": {},
   "outputs": [
    {
     "data": {
      "text/html": [
       "<style  type=\"text/css\" >\n",
       "    #T_36cc9cf6_3409_11ea_8e43_1860241454d4row0_col0 {\n",
       "            background-color:  #b40426;\n",
       "            color:  #f1f1f1;\n",
       "        }    #T_36cc9cf6_3409_11ea_8e43_1860241454d4row0_col1 {\n",
       "            background-color:  #506bda;\n",
       "            color:  #000000;\n",
       "        }    #T_36cc9cf6_3409_11ea_8e43_1860241454d4row0_col2 {\n",
       "            background-color:  #536edd;\n",
       "            color:  #000000;\n",
       "        }    #T_36cc9cf6_3409_11ea_8e43_1860241454d4row0_col3 {\n",
       "            background-color:  #4b64d5;\n",
       "            color:  #f1f1f1;\n",
       "        }    #T_36cc9cf6_3409_11ea_8e43_1860241454d4row0_col4 {\n",
       "            background-color:  #3b4cc0;\n",
       "            color:  #f1f1f1;\n",
       "        }    #T_36cc9cf6_3409_11ea_8e43_1860241454d4row1_col0 {\n",
       "            background-color:  #536edd;\n",
       "            color:  #000000;\n",
       "        }    #T_36cc9cf6_3409_11ea_8e43_1860241454d4row1_col1 {\n",
       "            background-color:  #b40426;\n",
       "            color:  #f1f1f1;\n",
       "        }    #T_36cc9cf6_3409_11ea_8e43_1860241454d4row1_col2 {\n",
       "            background-color:  #8fb1fe;\n",
       "            color:  #000000;\n",
       "        }    #T_36cc9cf6_3409_11ea_8e43_1860241454d4row1_col3 {\n",
       "            background-color:  #f6bea4;\n",
       "            color:  #000000;\n",
       "        }    #T_36cc9cf6_3409_11ea_8e43_1860241454d4row1_col4 {\n",
       "            background-color:  #3e51c5;\n",
       "            color:  #f1f1f1;\n",
       "        }    #T_36cc9cf6_3409_11ea_8e43_1860241454d4row2_col0 {\n",
       "            background-color:  #516ddb;\n",
       "            color:  #000000;\n",
       "        }    #T_36cc9cf6_3409_11ea_8e43_1860241454d4row2_col1 {\n",
       "            background-color:  #8badfd;\n",
       "            color:  #000000;\n",
       "        }    #T_36cc9cf6_3409_11ea_8e43_1860241454d4row2_col2 {\n",
       "            background-color:  #b40426;\n",
       "            color:  #f1f1f1;\n",
       "        }    #T_36cc9cf6_3409_11ea_8e43_1860241454d4row2_col3 {\n",
       "            background-color:  #7295f4;\n",
       "            color:  #000000;\n",
       "        }    #T_36cc9cf6_3409_11ea_8e43_1860241454d4row2_col4 {\n",
       "            background-color:  #3b4cc0;\n",
       "            color:  #f1f1f1;\n",
       "        }    #T_36cc9cf6_3409_11ea_8e43_1860241454d4row3_col0 {\n",
       "            background-color:  #4e68d8;\n",
       "            color:  #000000;\n",
       "        }    #T_36cc9cf6_3409_11ea_8e43_1860241454d4row3_col1 {\n",
       "            background-color:  #f6bea4;\n",
       "            color:  #000000;\n",
       "        }    #T_36cc9cf6_3409_11ea_8e43_1860241454d4row3_col2 {\n",
       "            background-color:  #7597f6;\n",
       "            color:  #000000;\n",
       "        }    #T_36cc9cf6_3409_11ea_8e43_1860241454d4row3_col3 {\n",
       "            background-color:  #b40426;\n",
       "            color:  #f1f1f1;\n",
       "        }    #T_36cc9cf6_3409_11ea_8e43_1860241454d4row3_col4 {\n",
       "            background-color:  #3d50c3;\n",
       "            color:  #f1f1f1;\n",
       "        }    #T_36cc9cf6_3409_11ea_8e43_1860241454d4row4_col0 {\n",
       "            background-color:  #3b4cc0;\n",
       "            color:  #f1f1f1;\n",
       "        }    #T_36cc9cf6_3409_11ea_8e43_1860241454d4row4_col1 {\n",
       "            background-color:  #3b4cc0;\n",
       "            color:  #f1f1f1;\n",
       "        }    #T_36cc9cf6_3409_11ea_8e43_1860241454d4row4_col2 {\n",
       "            background-color:  #3b4cc0;\n",
       "            color:  #f1f1f1;\n",
       "        }    #T_36cc9cf6_3409_11ea_8e43_1860241454d4row4_col3 {\n",
       "            background-color:  #3b4cc0;\n",
       "            color:  #f1f1f1;\n",
       "        }    #T_36cc9cf6_3409_11ea_8e43_1860241454d4row4_col4 {\n",
       "            background-color:  #b40426;\n",
       "            color:  #f1f1f1;\n",
       "        }</style><table id=\"T_36cc9cf6_3409_11ea_8e43_1860241454d4\" ><thead>    <tr>        <th class=\"blank level0\" ></th>        <th class=\"col_heading level0 col0\" >Rating</th>        <th class=\"col_heading level0 col1\" >Reviews</th>        <th class=\"col_heading level0 col2\" >Size</th>        <th class=\"col_heading level0 col3\" >Installs</th>        <th class=\"col_heading level0 col4\" >Price</th>    </tr></thead><tbody>\n",
       "                <tr>\n",
       "                        <th id=\"T_36cc9cf6_3409_11ea_8e43_1860241454d4level0_row0\" class=\"row_heading level0 row0\" >Rating</th>\n",
       "                        <td id=\"T_36cc9cf6_3409_11ea_8e43_1860241454d4row0_col0\" class=\"data row0 col0\" >1</td>\n",
       "                        <td id=\"T_36cc9cf6_3409_11ea_8e43_1860241454d4row0_col1\" class=\"data row0 col1\" >0.0631716</td>\n",
       "                        <td id=\"T_36cc9cf6_3409_11ea_8e43_1860241454d4row0_col2\" class=\"data row0 col2\" >0.0588205</td>\n",
       "                        <td id=\"T_36cc9cf6_3409_11ea_8e43_1860241454d4row0_col3\" class=\"data row0 col3\" >0.0454951</td>\n",
       "                        <td id=\"T_36cc9cf6_3409_11ea_8e43_1860241454d4row0_col4\" class=\"data row0 col4\" >-0.0193297</td>\n",
       "            </tr>\n",
       "            <tr>\n",
       "                        <th id=\"T_36cc9cf6_3409_11ea_8e43_1860241454d4level0_row1\" class=\"row_heading level0 row1\" >Reviews</th>\n",
       "                        <td id=\"T_36cc9cf6_3409_11ea_8e43_1860241454d4row1_col0\" class=\"data row1 col0\" >0.0631716</td>\n",
       "                        <td id=\"T_36cc9cf6_3409_11ea_8e43_1860241454d4row1_col1\" class=\"data row1 col1\" >1</td>\n",
       "                        <td id=\"T_36cc9cf6_3409_11ea_8e43_1860241454d4row1_col2\" class=\"data row1 col2\" >0.237254</td>\n",
       "                        <td id=\"T_36cc9cf6_3409_11ea_8e43_1860241454d4row1_col3\" class=\"data row1 col3\" >0.643112</td>\n",
       "                        <td id=\"T_36cc9cf6_3409_11ea_8e43_1860241454d4row1_col4\" class=\"data row1 col4\" >-0.00967422</td>\n",
       "            </tr>\n",
       "            <tr>\n",
       "                        <th id=\"T_36cc9cf6_3409_11ea_8e43_1860241454d4level0_row2\" class=\"row_heading level0 row2\" >Size</th>\n",
       "                        <td id=\"T_36cc9cf6_3409_11ea_8e43_1860241454d4row2_col0\" class=\"data row2 col0\" >0.0588205</td>\n",
       "                        <td id=\"T_36cc9cf6_3409_11ea_8e43_1860241454d4row2_col1\" class=\"data row2 col1\" >0.237254</td>\n",
       "                        <td id=\"T_36cc9cf6_3409_11ea_8e43_1860241454d4row2_col2\" class=\"data row2 col2\" >1</td>\n",
       "                        <td id=\"T_36cc9cf6_3409_11ea_8e43_1860241454d4row2_col3\" class=\"data row2 col3\" >0.162515</td>\n",
       "                        <td id=\"T_36cc9cf6_3409_11ea_8e43_1860241454d4row2_col4\" class=\"data row2 col4\" >-0.0224812</td>\n",
       "            </tr>\n",
       "            <tr>\n",
       "                        <th id=\"T_36cc9cf6_3409_11ea_8e43_1860241454d4level0_row3\" class=\"row_heading level0 row3\" >Installs</th>\n",
       "                        <td id=\"T_36cc9cf6_3409_11ea_8e43_1860241454d4row3_col0\" class=\"data row3 col0\" >0.0454951</td>\n",
       "                        <td id=\"T_36cc9cf6_3409_11ea_8e43_1860241454d4row3_col1\" class=\"data row3 col1\" >0.643112</td>\n",
       "                        <td id=\"T_36cc9cf6_3409_11ea_8e43_1860241454d4row3_col2\" class=\"data row3 col2\" >0.162515</td>\n",
       "                        <td id=\"T_36cc9cf6_3409_11ea_8e43_1860241454d4row3_col3\" class=\"data row3 col3\" >1</td>\n",
       "                        <td id=\"T_36cc9cf6_3409_11ea_8e43_1860241454d4row3_col4\" class=\"data row3 col4\" >-0.0116978</td>\n",
       "            </tr>\n",
       "            <tr>\n",
       "                        <th id=\"T_36cc9cf6_3409_11ea_8e43_1860241454d4level0_row4\" class=\"row_heading level0 row4\" >Price</th>\n",
       "                        <td id=\"T_36cc9cf6_3409_11ea_8e43_1860241454d4row4_col0\" class=\"data row4 col0\" >-0.0193297</td>\n",
       "                        <td id=\"T_36cc9cf6_3409_11ea_8e43_1860241454d4row4_col1\" class=\"data row4 col1\" >-0.00967422</td>\n",
       "                        <td id=\"T_36cc9cf6_3409_11ea_8e43_1860241454d4row4_col2\" class=\"data row4 col2\" >-0.0224812</td>\n",
       "                        <td id=\"T_36cc9cf6_3409_11ea_8e43_1860241454d4row4_col3\" class=\"data row4 col3\" >-0.0116978</td>\n",
       "                        <td id=\"T_36cc9cf6_3409_11ea_8e43_1860241454d4row4_col4\" class=\"data row4 col4\" >1</td>\n",
       "            </tr>\n",
       "    </tbody></table>"
      ],
      "text/plain": [
       "<pandas.io.formats.style.Styler at 0x1b3a7ca6470>"
      ]
     },
     "execution_count": 116,
     "metadata": {},
     "output_type": "execute_result"
    }
   ],
   "source": [
    "correlation_mat = df.corr()\n",
    "correlation_mat.style.background_gradient(cmap='coolwarm')"
   ]
  },
  {
   "cell_type": "markdown",
   "metadata": {},
   "source": [
    "Here it shows that no.of installs are highly affected by the number of reviews on an application or vice-versa but that is nothing outstanding"
   ]
  },
  {
   "cell_type": "markdown",
   "metadata": {},
   "source": [
    "It would be better to get more features involved with one-hot encoding"
   ]
  },
  {
   "cell_type": "code",
   "execution_count": 132,
   "metadata": {},
   "outputs": [
    {
     "data": {
      "text/plain": [
       "Index(['App', 'Category', 'Rating', 'Reviews', 'Size', 'Installs', 'Type',\n",
       "       'Price', 'ContentRating', 'Genres', 'Last Updated', 'Current Ver',\n",
       "       'Android Ver'],\n",
       "      dtype='object')"
      ]
     },
     "execution_count": 132,
     "metadata": {},
     "output_type": "execute_result"
    }
   ],
   "source": [
    "df.columns"
   ]
  },
  {
   "cell_type": "code",
   "execution_count": 134,
   "metadata": {},
   "outputs": [],
   "source": [
    "categorical=[\"ContentRating\",\"Category\",\"Genres\",\"Type\"]\n"
   ]
  },
  {
   "cell_type": "code",
   "execution_count": null,
   "metadata": {},
   "outputs": [],
   "source": [
    "from sklearn.preprocessing import OneHotEncoder\n",
    "\n"
   ]
  }
 ],
 "metadata": {
  "kernelspec": {
   "display_name": "Python 3",
   "language": "python",
   "name": "python3"
  },
  "language_info": {
   "codemirror_mode": {
    "name": "ipython",
    "version": 3
   },
   "file_extension": ".py",
   "mimetype": "text/x-python",
   "name": "python",
   "nbconvert_exporter": "python",
   "pygments_lexer": "ipython3",
   "version": "3.7.1"
  }
 },
 "nbformat": 4,
 "nbformat_minor": 2
}
